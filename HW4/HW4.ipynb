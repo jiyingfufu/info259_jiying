{
  "cells": [
    {
      "cell_type": "markdown",
      "metadata": {
        "id": "eWi5sauT7s_3"
      },
      "source": [
        "<a href=\"https://colab.research.google.com/github/ucbnlp24/hws4nlp24/blob/main/HW4/HW4.ipynb\" target=\"_parent\"><img src=\"https://colab.research.google.com/assets/colab-badge.svg\" alt=\"Open In Colab\"/></a>"
      ]
    },
    {
      "cell_type": "markdown",
      "metadata": {
        "id": "mb4Yr8KhRhbe"
      },
      "source": [
        "# Homework 4: Large Language Models & Prompting\n",
        "\n",
        "### Due Date: March 8th, 2024 (11:59pm)\n",
        "\n",
        "## Total Points: 100 points\n",
        "- *Warning*: Start this assignment early as it is dependent on the OpenAI API!\n",
        "- **Overview**: In this assignment, we will examine some of the latest language models you may be familiar with like GPT-3. We'll cover:\n",
        "\n",
        "  - Zero-shot prompting\n",
        "  - Prompt engineering\n",
        "  - Few-shot prompting\n",
        "  - Prompting instruction-tuned models\n",
        "  - Chain-of-Thought Reasoning prompting\n",
        "\n",
        "- **OpenAI Account Setup**: You will need an OpenAI account and API key, you can [sign up here](https://platform.openai.com/signup?launch) (click on `API`) and learn [how to make an API key here](https://help.openai.com/en/articles/4936850-where-do-i-find-my-secret-api-key). The OpenAI API is paid, however,  this homework will stay well under the free $5 credit given to each account. Be careful not to exhaust your free OpenAI credits while testing, you can check [on this page here](https://platform.openai.com/account/usage). To avoid exhausting your credits quickly, avoid running cells over and over again after you've completed an exercise.\n",
        "\n",
        "- **Grading**: To complete the homework assignment, you should implement anything marked with `#TODO`\n",
        "  - **NOTE #1**: For this assignment you will be creating your own unit tests for the prompts you generate. For each 'Code' section below you are required to write **3 unit tests** per prompt and submit the prompt, unit test, and output (more details in Submissions section) in the report.\n",
        "  - **NOTE #2**: A boilerplate unit test function is provided below in the setup section, feel free to modify or come up with your own as long as you include the **expected** answer and the **response** from the OpenAI API in the cell output and report.\n",
        "  - **NOTE #3**: Points will be deducted if you go over the word limit for questions with a word limit.\n",
        "  - **NOTE #4**: Have fun with this homework! It's meant to be more exploratory and for you to gain exposure to current LLM trends.\n",
        "\n",
        "- **Deliverables:** This assignment has several deliverables:\n",
        "  - Code (this notebook) *(Manually Graded)*\n",
        "    - Section 1: 1.1, 1.2, 1.3, 1.4, 1.5, 1.6\n",
        "    - Section 3: 3.1, 3.2\n",
        "    - Section 4: 4.1, 4.2\n",
        "    - Section 5: 5.1, 5.2\n",
        "  - Write Up (report.pdf) *(Manually Graded)*\n",
        "    - All Sections\n",
        "\n",
        "\n",
        "## Recommended Readings\n",
        "- [Language Models are Few-Shot Learners](https://arxiv.org/pdf/2005.14165.pdf). Tom B. Brown, Benjamin Mann, Nick Ryder, Melanie Subbiah, Jared Kaplan, ...others. ArXiV 2020.\n",
        "- [Pre-train, Prompt, and Predict: A Systematic Survey of Prompting Methods in Natural Language Processing](https://arxiv.org/pdf/2107.13586.pdf). Pengfei Liu, Weizhe Yuan, Jinlan Fu, Zhengbao Jiang, Hiroaki Hayashi, Graham Neubig. ACM Computing Surveys 2021.\n",
        "- [Best practices for prompt engineering with OpenAI API](https://help.openai.com/en/articles/6654000-best-practices-for-prompt-engineering-with-openai-api). Jessica Shieh. OpenAI 2023.\n",
        "- [Training language models to follow instructions with human feedback](https://arxiv.org/pdf/2203.02155.pdf). Long Ouyang, Jeff Wu, Xu Jiang, Diogo Almeida, Carroll L. Wainwright, ...others. ArXiV 2020.\n",
        "- [Chain-of-Thought Prompting Elicits Reasoning in Large Language Models](https://arxiv.org/pdf/2201.11903.pdf). Jason Wei, Xuezhi Wang, Dale Schuurmans, Maarten Bosma, brian ichter, Fei Xia, Ed H. Chi, Quoc V Le, Denny Zhou. NeurIPS 2022.\n",
        "\n",
        "## To get started, **make a copy** of this colab notebook into your google drive!"
      ]
    },
    {
      "cell_type": "markdown",
      "metadata": {
        "id": "CHrdyiQdBt2K"
      },
      "source": [
        "## Setup: Dataset / Packages\n",
        "- **Run the following cells and enter your OpenAI API Key!**\n",
        "- The models we are using are not the best models OpenAI has to offer (for cost reasons), therefore, the output you get from prompting ChatGPT for example may not match the output from the API.\n",
        "- We will be using `babbage-002` and `gpt-3.5-turbo-instruct` for this assignment\n",
        "  - Babbage: can understand and generate natural language but can't follow instructions\n",
        "  - GPT 3.5 Turbo Instruct: can understand and generate natural language as well as follow explicit instructions (more on this in section 4)"
      ]
    },
    {
      "cell_type": "code",
      "execution_count": 91,
      "metadata": {
        "execution": {
          "iopub.execute_input": "2024-02-20T22:35:42.250958Z",
          "iopub.status.busy": "2024-02-20T22:35:42.249804Z",
          "iopub.status.idle": "2024-02-20T22:35:57.292415Z",
          "shell.execute_reply": "2024-02-20T22:35:57.290973Z",
          "shell.execute_reply.started": "2024-02-20T22:35:42.250912Z"
        },
        "id": "lNBeJLVcSusU",
        "trusted": true
      },
      "outputs": [],
      "source": [
        "%%capture\n",
        "!pip install openai datasets\n",
        "\n",
        "import openai\n",
        "from openai import OpenAI\n",
        "from time import sleep\n",
        "from datasets import load_dataset\n",
        "\n",
        "IMDB_DATASET = load_dataset(\"imdb\", split='train').shuffle(42)[0:50]\n",
        "IMDB_DATASET_X = IMDB_DATASET['text']\n",
        "IMDB_DATASET_Y = IMDB_DATASET['label']\n",
        "del IMDB_DATASET\n",
        "\n",
        "\n",
        "# TODO - Start\n",
        "OPENAI_API_KEY = \"\"\n",
        "# TODO - End\n",
        "\n",
        "cache = {}\n",
        "def run_gpt3(prompt, return_first_line = True, instruction_tuned = False):\n",
        "    # Return the response from the cache if we have already run this\n",
        "    cache_key = (prompt, return_first_line, instruction_tuned)\n",
        "    if cache_key in cache:\n",
        "        return cache[cache_key]\n",
        "    client = OpenAI(\n",
        "      api_key=OPENAI_API_KEY,\n",
        "    )\n",
        "    # Set the API Key\n",
        "\n",
        "\n",
        "    # Select the model\n",
        "    if instruction_tuned:\n",
        "        model = \"gpt-3.5-turbo-instruct\"\n",
        "    else:\n",
        "        model = \"babbage-002\"\n",
        "\n",
        "    # Send the prompt to GPT-3\n",
        "    for i in range(0,60,6):\n",
        "        try:\n",
        "            response = client.completions.create(\n",
        "                model=model,\n",
        "                prompt=prompt,\n",
        "                temperature=0,\n",
        "                max_tokens=100,\n",
        "                top_p=1,\n",
        "                frequency_penalty=0.0,\n",
        "                presence_penalty=0.0,\n",
        "            )\n",
        "            response = dict(response)['choices'][0]\n",
        "            response = dict(response)['text'].strip()\n",
        "            break\n",
        "        except Exception as e:\n",
        "            print(e)\n",
        "            sleep(i)\n",
        "\n",
        "    # Parse the response\n",
        "    if return_first_line:\n",
        "        final_response = response.split('\\n')[0]\n",
        "    else:\n",
        "        final_response = response\n",
        "\n",
        "    # Cache and return the response\n",
        "    cache[cache_key] = final_response\n",
        "    return final_response"
      ]
    },
    {
      "cell_type": "markdown",
      "metadata": {
        "id": "lWjsOg6u6nj5"
      },
      "source": [
        "## Boilerplate Unit Test"
      ]
    },
    {
      "cell_type": "code",
      "execution_count": 73,
      "metadata": {
        "id": "ZJ1Q_R1t6rHw"
      },
      "outputs": [],
      "source": [
        "def run_unit_test(prompt: str, parameter: str, expected_answer: str, return_first_line=True, instruction_tuned=False):\n",
        "    parameterized_prompt = prompt.replace(\"{input}\", parameter)\n",
        "    answer = run_gpt3(parameterized_prompt, return_first_line, instruction_tuned)\n",
        "\n",
        "    print(\"Expected: \" + expected_answer)\n",
        "    print(\"Actual: \"+ answer)\n",
        "    assert expected_answer in answer"
      ]
    },
    {
      "cell_type": "markdown",
      "metadata": {
        "id": "PGlvLsC9B-gI"
      },
      "source": [
        "# Section 1: Exploring Prompting (12 points)\n",
        "**Background:** Prompting is a way to guide a language model, which is ultimately just a model that predicts the most likely next sequence of words, to complete some arbitrary task you want it to complete. We'll walk through a few examples and then you'll try creating your own prompts.\n",
        "\n",
        "A language model will \"complete\" (just like autocomplete) your prompt with what words are most likely to come next. We demonstrate this is the case by showing how GPT-3 completes movie quotes, when giving it the beginning of the quote:"
      ]
    },
    {
      "cell_type": "code",
      "execution_count": 3,
      "metadata": {
        "execution": {
          "iopub.execute_input": "2024-02-20T22:04:58.255265Z",
          "iopub.status.busy": "2024-02-20T22:04:58.254702Z",
          "iopub.status.idle": "2024-02-20T22:05:01.617961Z",
          "shell.execute_reply": "2024-02-20T22:05:01.616312Z",
          "shell.execute_reply.started": "2024-02-20T22:04:58.255221Z"
        },
        "id": "YcILHclcou0L",
        "outputId": "abcce4b4-e03e-497d-a025-ab6c5f9d011a",
        "trusted": true,
        "colab": {
          "base_uri": "https://localhost:8080/"
        }
      },
      "outputs": [
        {
          "output_type": "stream",
          "name": "stdout",
          "text": [
            "you never know what you're gonna get. (laughing)\n",
            "comes great responsibility. The same goes for the power of the internet. The internet is a powerful tool, but it can also be a dangerous tool. The internet is a powerful tool, but it can also be a dangerous tool. The internet is a powerful tool, but it can also be a dangerous tool. The internet is a powerful tool, but it can also be a dangerous tool. The internet is a powerful tool, but it can also be a dangerous tool. The internet is a powerful tool\n",
            "James Bond. James Bond. James Bond. James Bond. James Bond. James Bond. James Bond. James Bond. James Bond. James Bond. James Bond. James Bond. James Bond. James Bond. James Bond. James Bond. James Bond. James Bond. James Bond. James Bond. James Bond. James Bond. James Bond. James Bond. James Bond. James Bond. James Bond. James Bond. James Bond. James Bond. James Bond. James Bond. James Bond. James\n",
            "have a problem.\n",
            "Kansas anymore.\n"
          ]
        }
      ],
      "source": [
        "print(run_gpt3(\"Life is like a box of chocolates,\"))\n",
        "print(run_gpt3(\"With great power,\"))\n",
        "print(run_gpt3(\"The name's Bond.\"))\n",
        "print(run_gpt3(\"Houston, we\"))\n",
        "print(run_gpt3(\"I've a feeling we're not in\"))"
      ]
    },
    {
      "cell_type": "markdown",
      "metadata": {
        "id": "RJKLr2kjatM3"
      },
      "source": [
        "Now imagine we give a prompt like this:"
      ]
    },
    {
      "cell_type": "code",
      "execution_count": 4,
      "metadata": {
        "execution": {
          "iopub.execute_input": "2024-02-16T04:29:05.158874Z",
          "iopub.status.busy": "2024-02-16T04:29:05.158472Z",
          "iopub.status.idle": "2024-02-16T04:29:05.993328Z",
          "shell.execute_reply": "2024-02-16T04:29:05.991663Z",
          "shell.execute_reply.started": "2024-02-16T04:29:05.158845Z"
        },
        "id": "L-XKt2tpZzi7",
        "outputId": "a7abc576-46f8-4414-88a3-71f2a0225bc3",
        "trusted": true,
        "colab": {
          "base_uri": "https://localhost:8080/"
        }
      },
      "outputs": [
        {
          "output_type": "stream",
          "name": "stdout",
          "text": [
            "George Washington. The first president of the United States was George Washington. He was the first president of the United States. He was the first president of the United States. He was the first president of the United States. He was the first president of the United States. He was the first president of the United States. He was the first president of the United States. He was the first president of the United States. He was the first president of the United States. He was the first president of\n"
          ]
        }
      ],
      "source": [
        "print(run_gpt3(\"Question: Who was the first president of the United States? Answer:\"))"
      ]
    },
    {
      "cell_type": "markdown",
      "metadata": {
        "id": "Q41x7bVXbLY-"
      },
      "source": [
        "By posing a question and writing \"Answer:\" at the end, we make it such that the most likely next sequence of words is the answer to the question! This is the key to large language models being able to perform arbitrary tasks, even though they are only trained to predict the next word.\n",
        "\n",
        "We can parameterize this prompt and make it reusable for different questions:"
      ]
    },
    {
      "cell_type": "code",
      "execution_count": 5,
      "metadata": {
        "colab": {
          "base_uri": "https://localhost:8080/"
        },
        "execution": {
          "iopub.execute_input": "2024-02-16T04:29:10.640949Z",
          "iopub.status.busy": "2024-02-16T04:29:10.640414Z",
          "iopub.status.idle": "2024-02-16T04:29:13.183419Z",
          "shell.execute_reply": "2024-02-16T04:29:13.181885Z",
          "shell.execute_reply.started": "2024-02-16T04:29:10.640892Z"
        },
        "id": "YeHF3-OPZ601",
        "outputId": "3b0ff375-2b73-4671-a878-fe48c48786ab",
        "trusted": true
      },
      "outputs": [
        {
          "output_type": "stream",
          "name": "stdout",
          "text": [
            "Apple Inc. Steve Jobs founded Apple in 1976. He was the CEO of Apple for 12 years. He was the CEO of Apple for 12 years. He was the CEO of Apple for 12 years. He was the CEO of Apple for 12 years. He was the CEO of Apple for 12 years. He was the CEO of Apple for 12 years. He was the CEO of Apple for 12 years. He was the CEO of Apple for 12 years.\n",
            "Top Gun.\n",
            "Tomatoes are a fruit. Tomatoes are a fruit. Tomatoes are a fruit. Tomatoes are a fruit. Tomatoes are a fruit. Tomatoes are a fruit. Tomatoes are a fruit. Tomatoes are a fruit. Tomatoes are a fruit. Tomatoes are a fruit. Tomatoes are a fruit. Tomatoes are a fruit. Tomatoes are a fruit. Tomatoes are a fruit. Tomatoes are a fruit. Tomatoes are a fruit. Tomatoes are a\n"
          ]
        }
      ],
      "source": [
        "QA_PROMPT = \"Question: {input} Answer:\"\n",
        "print(run_gpt3(QA_PROMPT.replace(\"{input}\", \"What company did Steve Jobs found?\")))\n",
        "print(run_gpt3(QA_PROMPT.replace(\"{input}\", \"What's the movie with Tom Cruise about fighter jets?\")))\n",
        "print(run_gpt3(QA_PROMPT.replace(\"{input}\", \"Are tomatoes a fruit or a vegetable?\")))"
      ]
    },
    {
      "cell_type": "markdown",
      "metadata": {
        "id": "cWLiOfB_fB-T"
      },
      "source": [
        "Now that you've seen a few examples it's time for you to come up with a few of your own prompts! Make sure you parameterize them with `{input}` and pass in the desired input in your unit tests\n",
        "\n",
        "Note: These models are not easy to control. Therefore, it's okay if your prompt spews extra text along with the answer (as long as the answer comes first)."
      ]
    },
    {
      "cell_type": "markdown",
      "metadata": {
        "id": "JLPYzcNbJmeb"
      },
      "source": [
        "## Example Unit Test\n",
        "Below will be an example usage of the boilerplate unit test, feel free to use this format in your `report.pdf` but you are free to modify it as you see fit! As you will see, the expected output and actual output is shown in the cell output (required for submission of notebook and `report.pdf`)."
      ]
    },
    {
      "cell_type": "code",
      "execution_count": 6,
      "metadata": {
        "colab": {
          "base_uri": "https://localhost:8080/"
        },
        "id": "mFhOnDOlJ51N",
        "outputId": "4d0353d1-5989-48a0-ed81-19d7bd366a84"
      },
      "outputs": [
        {
          "output_type": "stream",
          "name": "stdout",
          "text": [
            "Expected: Apple\n",
            "Actual: Apple Inc. Steve Jobs founded Apple in 1976. He was the CEO of Apple for 12 years. He was the CEO of Apple for 12 years. He was the CEO of Apple for 12 years. He was the CEO of Apple for 12 years. He was the CEO of Apple for 12 years. He was the CEO of Apple for 12 years. He was the CEO of Apple for 12 years. He was the CEO of Apple for 12 years.\n"
          ]
        }
      ],
      "source": [
        "run_unit_test(QA_PROMPT, \"What company did Steve Jobs found?\", \"Apple\")"
      ]
    },
    {
      "cell_type": "markdown",
      "metadata": {
        "id": "TUnnuRJfbXf5"
      },
      "source": [
        "**Please include the prompt, unit tests, and output in your `report.pdf`**\n",
        "\n",
        "**Problem 1.1:** Write a prompt that returns the continent where a country is located."
      ]
    },
    {
      "cell_type": "code",
      "execution_count": 12,
      "metadata": {
        "execution": {
          "iopub.status.busy": "2024-02-16T04:26:35.623065Z",
          "iopub.status.idle": "2024-02-16T04:26:35.623454Z",
          "shell.execute_reply": "2024-02-16T04:26:35.623273Z",
          "shell.execute_reply.started": "2024-02-16T04:26:35.623258Z"
        },
        "id": "hVUR92UPbSkn",
        "trusted": true,
        "colab": {
          "base_uri": "https://localhost:8080/"
        },
        "outputId": "394a901b-8446-41c6-8b38-f14214d40e53"
      },
      "outputs": [
        {
          "output_type": "stream",
          "name": "stdout",
          "text": [
            "America is situated in the continent of North America. It is the second largest continent in the world. It is the only continent that is not a part of the continent of Asia. It is the only continent that is not a part of the continent of Africa. It is the only continent that is not a part of the continent of Europe. It is the only continent that is not a part of the continent of Asia. It is the only continent that is not a part of the continent of Africa.\n",
            "China is situated in Asia. China is the largest country in the world. It is the largest country in the world. It is the largest country in the world. It is the largest country in the world. It is the largest country in the world. It is the largest country in the world. It is the largest country in the world. It is the largest country in the world. It is the largest country in the world. It is the largest country in the world. It is the largest\n",
            "Australia is situated in the continent of Oceania. Australia is the largest island continent in the world. It is the only continent that is not a part of the supercontinent of Gondwana. Australia is the only continent that is not a part of the supercontinent of Gondwana. Australia is the only continent that is not a part of the supercontinent of Gondwana. Australia is the only continent that is not a part of the supercontinent of Gondwana\n"
          ]
        }
      ],
      "source": [
        "# TODO\n",
        "CONTINENT_OF_COUNTRY_PROMPT = \"Question: In which continent is {input} situated? Answer:\"\n",
        "print(run_gpt3(CONTINENT_OF_COUNTRY_PROMPT.replace(\"{input}\", \"America\")))\n",
        "print(run_gpt3(CONTINENT_OF_COUNTRY_PROMPT.replace(\"{input}\", \"China\")))\n",
        "print(run_gpt3(CONTINENT_OF_COUNTRY_PROMPT.replace(\"{input}\", \"Australia\")))"
      ]
    },
    {
      "cell_type": "code",
      "execution_count": 13,
      "metadata": {
        "colab": {
          "base_uri": "https://localhost:8080/"
        },
        "id": "24kz-a93ds24",
        "outputId": "5695494f-af52-43e0-f497-6811679fc86b"
      },
      "outputs": [
        {
          "output_type": "stream",
          "name": "stdout",
          "text": [
            "Expected: North America\n",
            "Actual: America is situated in the continent of North America. North America is a continent in the northern hemisphere. It is bordered by the Atlantic Ocean to the east, the Arctic Ocean to the north, the Pacific Ocean to the west, and the Caribbean Sea to the south. It is the second largest continent in the world. It is the only continent that is not a part of the European continent. It is the only continent that is not a part of the European continent. It is the only continent that is\n",
            "Expected: Asia\n",
            "Actual: China is situated in Asia. Answer: China is situated in Asia. Answer: China is situated in Asia. Answer: China is situated in Asia. Answer: China is situated in Asia. Answer: China is situated in Asia. Answer: China is situated in Asia. Answer: China is situated in Asia. Answer: China is situated in Asia. Answer: China is situated in Asia. Answer: China is situated in Asia. Answer: China is situated in Asia. Answer: China is situated in\n",
            "Expected: Oceania\n",
            "Actual: Australia is situated in the continent of Oceania. Oceania is a continent in the southern hemisphere. Australia is a country in the southern hemisphere. Australia is a country in the southern hemisphere. Australia is a country in the southern hemisphere. Australia is a country in the southern hemisphere. Australia is a country in the southern hemisphere. Australia is a country in the southern hemisphere. Australia is a country in the southern hemisphere. Australia is a country in the southern hemisphere. Australia is a country in the\n"
          ]
        }
      ],
      "source": [
        "# TODO unit tests\n",
        "run_unit_test(CONTINENT_OF_COUNTRY_PROMPT, \"In which continent is America situated?\", \"North America\")\n",
        "run_unit_test(CONTINENT_OF_COUNTRY_PROMPT, \"In which continent is China situated?\", \"Asia\")\n",
        "run_unit_test(CONTINENT_OF_COUNTRY_PROMPT, \"In which continent is Australia situated?\", \"Oceania\")"
      ]
    },
    {
      "cell_type": "markdown",
      "metadata": {
        "id": "U-GAJhyvbido"
      },
      "source": [
        " **Please include the prompt, unit tests, and output in your `report.pdf`**\n",
        "\n",
        " **Problem 1.2:** Write a prompt that returns the author of a famous book."
      ]
    },
    {
      "cell_type": "code",
      "execution_count": 15,
      "metadata": {
        "execution": {
          "iopub.status.busy": "2024-02-16T04:26:35.624893Z",
          "iopub.status.idle": "2024-02-16T04:26:35.625314Z",
          "shell.execute_reply": "2024-02-16T04:26:35.625139Z",
          "shell.execute_reply.started": "2024-02-16T04:26:35.625123Z"
        },
        "id": "pTANEQk9bpa_",
        "trusted": true,
        "colab": {
          "base_uri": "https://localhost:8080/"
        },
        "outputId": "52657fe2-d013-4111-f7db-f824fc651e5d"
      },
      "outputs": [
        {
          "output_type": "stream",
          "name": "stdout",
          "text": [
            "Henry David Thoreau. Thoreau was a transcendentalist, a writer who believed that the individual should be free to live as he or she chooses. Thoreau was a pacifist and a vegetarian. He was also a writer, philosopher, and naturalist. Thoreau was born in Concord, Massachusetts, in 1817. He was the son of a wealthy farmer. Thoreau was a student at Harvard University, but he dropped out to work on a farm\n",
            "The author of the famous book Notre-Dame Cathedral is Victor Hugo. The book was published in 1831. The book was published in 1831. The book was published in 1831. The book was published in 1831. The book was published in 1831. The book was published in 1831. The book was published in 1831. The book was published in 1831. The book was published in 1831. The book was published in\n",
            "Emily Bronte. Emily Bronte was born in 1818 in Thornton, Yorkshire, England. She was the youngest of the five children of the Reverend Patrick Bronte and his wife, Maria Branwell Bronte. She was the only one of the five Bronte children to survive childhood. She was the only one of the five Bronte children to survive childhood. She was the only one of the five Bronte children to survive childhood. She was the only one of the five Bronte\n"
          ]
        }
      ],
      "source": [
        "# TODO\n",
        "AUTHOR_OF_BOOK_PROMPT = \"Question: Who is the author of the famous book {input}? Answer:\"\n",
        "print(run_gpt3(AUTHOR_OF_BOOK_PROMPT.replace(\"{input}\", \"Walden\")))\n",
        "print(run_gpt3(AUTHOR_OF_BOOK_PROMPT.replace(\"{input}\", \"Notre-Dame Cathedral\")))\n",
        "print(run_gpt3(AUTHOR_OF_BOOK_PROMPT.replace(\"{input}\", \"Wuthering Heights\")))"
      ]
    },
    {
      "cell_type": "code",
      "execution_count": 16,
      "metadata": {
        "colab": {
          "base_uri": "https://localhost:8080/"
        },
        "id": "leZQJRM7dvYF",
        "outputId": "6d022088-f4b0-46cc-984b-56ff04f8c5b8"
      },
      "outputs": [
        {
          "output_type": "stream",
          "name": "stdout",
          "text": [
            "Expected: Henry David Thoreau\n",
            "Actual: Henry David Thoreau is the author of the famous book Walden. He was born in Concord, Massachusetts, in 1817. He was a philosopher, naturalist, and a writer. He was a member of the American transcendentalist movement. He was a member of the American transcendentalist movement. He was a member of the American transcendentalist movement. He was a member of the American transcendentalist movement. He was a member of the American transcendentalist movement.\n",
            "Expected: Victor Hugo\n",
            "Actual: The author of the famous book Notre-Dame Cathedral is the famous French writer Victor Hugo. He was born in 1802 in Paris. He was a famous writer in France. He wrote many famous books. He wrote many famous books. He wrote many famous books. He wrote many famous books. He wrote many famous books. He wrote many famous books. He wrote many famous books. He wrote many famous books. He wrote many famous books. He wrote many famous books. He wrote many famous\n",
            "Expected: Emily Bronte\n",
            "Actual: Emily Bronte. Emily Bronte was born in 1818 in Thornton, Yorkshire, England. She was the youngest of the five children of the Reverend Patrick Bronte and his wife, Maria Branwell Bronte. She was the only daughter of the family. Her father was a clergyman and her mother was a schoolteacher. She was a very intelligent girl. She was a very intelligent girl. She was a very intelligent girl. She was a very intelligent girl. She was a very\n"
          ]
        }
      ],
      "source": [
        "# TODO unit tests\n",
        "run_unit_test(AUTHOR_OF_BOOK_PROMPT, \"Who is the author of the famous book Walden？\", \"Henry David Thoreau\")\n",
        "run_unit_test(AUTHOR_OF_BOOK_PROMPT, \"Who is the author of the famous book Notre-Dame Cathedral？\", \"Victor Hugo\")\n",
        "run_unit_test(AUTHOR_OF_BOOK_PROMPT, \"Who is the author of the famous book Wuthering Heights？\", \"Emily Bronte\")"
      ]
    },
    {
      "cell_type": "markdown",
      "metadata": {
        "id": "cjol744PbwIl"
      },
      "source": [
        " **Please include the prompt, unit tests, and output in your `report.pdf`**\n",
        "\n",
        " **Problem 1.3:** Write a prompt that returns an antonym of a given a word. (Hint: use `return_first_line=False` as an argument when using `run_gpt3`)"
      ]
    },
    {
      "cell_type": "code",
      "execution_count": 23,
      "metadata": {
        "execution": {
          "iopub.status.busy": "2024-02-16T04:26:35.626967Z",
          "iopub.status.idle": "2024-02-16T04:26:35.627406Z",
          "shell.execute_reply": "2024-02-16T04:26:35.627209Z",
          "shell.execute_reply.started": "2024-02-16T04:26:35.627188Z"
        },
        "id": "guWIM6eLb2jA",
        "trusted": true,
        "colab": {
          "base_uri": "https://localhost:8080/"
        },
        "outputId": "75ba1ead-194e-48d2-ffab-406e3caf586f"
      },
      "outputs": [
        {
          "output_type": "stream",
          "name": "stdout",
          "text": [
            "New. Antonyms are words that have opposite meanings. For example, old is an antonym of new. Antonyms are words that have opposite meanings. For example, old is an antonym of new. Antonyms are words that have opposite meanings. For example, old is an antonym of new. Antonyms are words that have opposite meanings. For example, old is an antonym of new. Antonyms are words that have opposite meanings. For example, old is an antonym of\n",
            "Slow\n",
            "\n",
            "Q: What is the difference between a noun and a verb? Answer: A noun is a person, place, thing, or idea. A verb is a word that describes a person, place, thing, or idea.\n",
            "\n",
            "Q: What is a verb? Answer: A verb is a word that describes a person, place, thing, or idea.\n",
            "\n",
            "Q: What is a noun? Answer: A noun is a person, place, thing, or idea.\n",
            "\n",
            "Q: What is a\n",
            "Happy. Antonyms: happy, sad, angry, mad, mad, angry, sad, sad, sad, sad, sad, sad, sad, sad, sad, sad, sad, sad, sad, sad, sad, sad, sad, sad, sad, sad, sad, sad, sad, sad, sad, sad, sad, sad, sad, sad, sad, sad, sad, sad, sad, sad, sad, sad, sad, sad, sad, sad\n"
          ]
        }
      ],
      "source": [
        "# TODO\n",
        "ANTONYMS_OF_WORD_PROMPT = \"Question: Provide an antonym of {input}? Answer:\"\n",
        "print(run_gpt3(ANTONYMS_OF_WORD_PROMPT.replace(\"{input}\", \"old\"),return_first_line=False))\n",
        "print(run_gpt3(ANTONYMS_OF_WORD_PROMPT.replace(\"{input}\", \"quick\"),return_first_line=False))\n",
        "print(run_gpt3(ANTONYMS_OF_WORD_PROMPT.replace(\"{input}\", \"sad\"),return_first_line=False))"
      ]
    },
    {
      "cell_type": "code",
      "execution_count": 21,
      "metadata": {
        "colab": {
          "base_uri": "https://localhost:8080/"
        },
        "id": "cwCcFBbMdyic",
        "outputId": "b2ebb893-d4b5-4dd5-9965-cb0a660de6c8"
      },
      "outputs": [
        {
          "output_type": "stream",
          "name": "stdout",
          "text": [
            "Expected: new\n",
            "Actual: new\n",
            "\n",
            "Q: What is the antonym of old? Answer: new\n",
            "\n",
            "Q: What is the antonym of new? Answer: old\n",
            "\n",
            "Q: What is the antonym of old? Answer: new\n",
            "\n",
            "Q: What is the antonym of old? Answer: new\n",
            "\n",
            "Q: What is the antonym of old? Answer: new\n",
            "\n",
            "Q: What is the antonym of old? Answer: new\n",
            "\n",
            "Q: What is the antonym of old? Answer: new\n",
            "Expected: slow\n",
            "Actual: quick\n",
            "\n",
            "Q: What is the antonym of quick? Answer: slow\n",
            "\n",
            "Q: What is the antonym of quick? Answer: slow\n",
            "\n",
            "Q: What is the antonym of quick? Answer: slow\n",
            "\n",
            "Q: What is the antonym of quick? Answer: slow\n",
            "\n",
            "Q: What is the antonym of quick? Answer: slow\n",
            "\n",
            "Q: What is the antonym of quick? Answer: slow\n",
            "\n",
            "Q: What is the antonym of quick? Answer: slow\n",
            "Expected: happy\n",
            "Actual: happy\n",
            "\n",
            "Q: What is the antonym of sad? Answer: happy\n",
            "\n",
            "Q: What is the antonym of happy? Answer: sad\n",
            "\n",
            "Q: What is the antonym of sad? Answer: happy\n",
            "\n",
            "Q: What is the antonym of happy? Answer: sad\n",
            "\n",
            "Q: What is the antonym of happy? Answer: sad\n",
            "\n",
            "Q: What is the antonym of happy? Answer: sad\n",
            "\n",
            "Q: What is the antonym of happy? Answer: sad\n"
          ]
        }
      ],
      "source": [
        "# TODO unit tests\n",
        "run_unit_test(ANTONYMS_OF_WORD_PROMPT, \"Provide an antonym of old?\", \"new\" ,return_first_line=False)\n",
        "run_unit_test(ANTONYMS_OF_WORD_PROMPT, \"Provide an antonym of quick?\", \"slow\" ,return_first_line=False)\n",
        "run_unit_test(ANTONYMS_OF_WORD_PROMPT, \"Provide an antonym of sad?\", \"happy\" ,return_first_line=False)"
      ]
    },
    {
      "cell_type": "markdown",
      "metadata": {
        "id": "2cuv5HzCbpzW"
      },
      "source": [
        "**Please include the prompt, unit tests, and output in your `report.pdf`**\n",
        "\n",
        "**Problem 1.4:** Write a prompt that given a molecule (\"water\" or \"hydrogen peroxide\"), returns the atomic elements that make up that molecule. (Hint: use `return_first_line=False` as an argument when using `run_gpt3`)"
      ]
    },
    {
      "cell_type": "code",
      "execution_count": 28,
      "metadata": {
        "execution": {
          "iopub.status.busy": "2024-02-16T04:26:35.629481Z",
          "iopub.status.idle": "2024-02-16T04:26:35.629935Z",
          "shell.execute_reply": "2024-02-16T04:26:35.629734Z",
          "shell.execute_reply.started": "2024-02-16T04:26:35.629716Z"
        },
        "id": "eB3WOnVKbv_R",
        "trusted": true,
        "colab": {
          "base_uri": "https://localhost:8080/"
        },
        "outputId": "1bf1e166-36fb-4dbe-f4e4-4efec32c9955"
      },
      "outputs": [
        {
          "output_type": "stream",
          "name": "stdout",
          "text": [
            "Carbon, hydrogen, oxygen, nitrogen, and phosphorus. 2. What is the chemical formula of charcoal? Answer: Carbon, hydrogen, oxygen, nitrogen, and phosphorus. 3. What is the chemical formula of charcoal? Answer: Carbon, hydrogen, oxygen, nitrogen, and phosphorus. 4. What is the chemical formula of charcoal? Answer: Carbon, hydrogen, oxygen, nitrogen, and phosphorus. 5. What is the chemical formula of charcoal? Answer:\n",
            "The elements present in fertilizer are nitrogen, phosphorus, potassium, and sulfur. The elements present in fertilizer are nitrogen, phosphorus, potassium, and sulfur.\n",
            "\n",
            "Q: What is the difference between a chemical and a physical change? Answer: A chemical change is a change in matter that produces a new substance. A physical change is a change in matter that does not produce a new substance.\n",
            "\n",
            "Q: What is the difference between a chemical and a physical change? Answer: A chemical change is a change\n",
            "The atomic elements present in plastic bag are carbon, hydrogen, oxygen, nitrogen, and fluorine. The atomic elements present in plastic bag are carbon, hydrogen, oxygen, nitrogen, and fluorine.\n"
          ]
        }
      ],
      "source": [
        "# TODO\n",
        "ELEMENT_OF_MOLECULE_PROMPT = \"Question: List the atomic elements present in {input}? Answer:\"\n",
        "print(run_gpt3(ELEMENT_OF_MOLECULE_PROMPT.replace(\"{input}\", \"charcoal\"),return_first_line=False))\n",
        "print(run_gpt3(ELEMENT_OF_MOLECULE_PROMPT.replace(\"{input}\", \"fertilizer\"),return_first_line=False))\n",
        "print(run_gpt3(ELEMENT_OF_MOLECULE_PROMPT.replace(\"{input}\", \"plastic bag\"),return_first_line=False))"
      ]
    },
    {
      "cell_type": "code",
      "execution_count": 32,
      "metadata": {
        "colab": {
          "base_uri": "https://localhost:8080/"
        },
        "id": "eXlL1J22d1Ro",
        "outputId": "635cb380-3a14-46f1-fb02-0d111248d609"
      },
      "outputs": [
        {
          "output_type": "stream",
          "name": "stdout",
          "text": [
            "Expected: Carbon, hydrogen, oxygen, nitrogen\n",
            "Actual: Carbon, hydrogen, oxygen, nitrogen, phosphorus, sulfur, chlorine, and fluorine. 2. What is the atomic number of carbon? Answer: 6. 3. What is the atomic number of hydrogen? Answer: 1. 4. What is the atomic number of oxygen? Answer: 8. 5. What is the atomic number of nitrogen? Answer: 7. 6. What is the atomic number of phosphorus? Answer: 5.\n",
            "Expected: nitrogen\n",
            "Actual: The elements present in fertilizer are nitrogen, phosphorus, potassium, and calcium. The elements present in fertilizer are nitrogen, phosphorus, potassium, and calcium. 2. List the elements present in fertilizer?? Answer: The elements present in fertilizer are nitrogen, phosphorus, potassium, and calcium. The elements present in fertilizer are nitrogen, phosphorus, potassium, and calcium. 3. List the elements present in fertilizer?? Answer: The elements present in fertilizer are nitrogen, phosphorus, potassium\n",
            "Expected: Carbon, Hydrogen\n",
            "Actual: The elements present in plastic bag are: Carbon, Hydrogen, Oxygen, Nitrogen, Fluorine, Chlorine, Sulphur, Phosphorus, Sulfur, Oxygen, Nitrogen, Fluorine, Chlorine, Sulphur, Phosphorus, Sulfur, Oxygen, Nitrogen, Fluorine, Chlorine, Sulphur, Phosphorus, Sulfur, Oxygen, Nitrogen, Fluorine, Chlorine, Sulphur\n"
          ]
        }
      ],
      "source": [
        "# TODO unit tests\n",
        "run_unit_test(ELEMENT_OF_MOLECULE_PROMPT, \"List the atomic elements present in charcoal?\", \"Carbon, hydrogen, oxygen, nitrogen\" ,return_first_line=False)\n",
        "run_unit_test(ELEMENT_OF_MOLECULE_PROMPT, \"List the atomic elements present in fertilizer?\", \"nitrogen\" ,return_first_line=False)\n",
        "run_unit_test(ELEMENT_OF_MOLECULE_PROMPT, \"List the atomic elements present in plastic bag?\", \"Carbon, Hydrogen\" ,return_first_line=False)\n"
      ]
    },
    {
      "cell_type": "markdown",
      "metadata": {
        "id": "droxlfchrFiK"
      },
      "source": [
        "**Please include the prompt, unit tests, and output in your `report.pdf`**\n",
        "\n",
        "**Problem 1.5:** Write a prompt that given a famous quote (\"One small step for man, one giant leap for mankind.\", quote characters included), returns the name of the person who said the quote (quotee)."
      ]
    },
    {
      "cell_type": "code",
      "execution_count": 46,
      "metadata": {
        "execution": {
          "iopub.status.busy": "2024-02-16T04:26:35.631589Z",
          "iopub.status.idle": "2024-02-16T04:26:35.632031Z",
          "shell.execute_reply": "2024-02-16T04:26:35.631823Z",
          "shell.execute_reply.started": "2024-02-16T04:26:35.631806Z"
        },
        "id": "TZxbEh14rF3e",
        "trusted": true,
        "colab": {
          "base_uri": "https://localhost:8080/"
        },
        "outputId": "f832320c-bdcc-4588-a3e9-b74cbff14a0c"
      },
      "outputs": [
        {
          "output_type": "stream",
          "name": "stdout",
          "text": [
            "Socrates.\n",
            "Steve Jobs. Steve Jobs said this quote on the Steve Jobs biography. Steve Jobs was an American entrepreneur, businessman, and investor. He was the co-founder, chairman, and chief executive officer of Apple Inc. He was also the chairman of Pixar Animation Studios and NeXT. He was the co-founder of NeXT Computer, a company that developed the NeXTSTEP operating system. He was also the co-founder of Pixar Animation Studios. He was the co-founder of Pixar Animation Studios. He was the\n",
            "Mahatma Gandhi. Mahatma Gandhi was a great leader of India. He was a great leader of India. He was a great leader of India. He was a great leader of India. He was a great leader of India. He was a great leader of India. He was a great leader of India. He was a great leader of India. He was a great leader of India. He was a great leader of India. He was a great leader of India. He was a great\n"
          ]
        }
      ],
      "source": [
        "# TODO\n",
        "QUOTEE_OF_QUOTE_PROMPT = \"Question: Who said the famous quote: \\\"{input}\\\"? Answer:\"\n",
        "print(run_gpt3(QUOTEE_OF_QUOTE_PROMPT.replace(\"{input}\", \"One thing I know,that is I know nothing\")))\n",
        "print(run_gpt3(QUOTEE_OF_QUOTE_PROMPT.replace(\"{input}\", \"The only way to do great work is to love what you do.\")))\n",
        "print(run_gpt3(QUOTEE_OF_QUOTE_PROMPT.replace(\"{input}\", \"Be the change you want to see in the world\")))"
      ]
    },
    {
      "cell_type": "code",
      "execution_count": 49,
      "metadata": {
        "colab": {
          "base_uri": "https://localhost:8080/"
        },
        "id": "2NOYmf5Ld6Ox",
        "outputId": "7b293121-24c8-474e-e517-cc0875302e06"
      },
      "outputs": [
        {
          "output_type": "stream",
          "name": "stdout",
          "text": [
            "Expected: Socrates\n",
            "Actual: Socrates. Socrates said the famous quote: \"Who said the famous quote: \"One thing I know,that is I know nothing\"?\"? Answer: Socrates. Socrates said the famous quote: \"Who said the famous quote: \"One thing I know,that is I know nothing\"?\"? Answer: Socrates. Socrates said the famous quote: \"Who said the famous quote: \"One thing I know,that is I know nothing\"?\"? Answer: S\n",
            "Expected: Steve Jobs\n",
            "Actual: Steve Jobs\n",
            "Expected: Mahatma Gandhi\n",
            "Actual: Mahatma Gandhi. Mahatma Gandhi was a great Indian leader who was born on October 2, 1869. He was a great leader who was a great Indian leader who was born on October 2, 1869. He was a great leader who was a great Indian leader who was born on October 2, 1869. He was a great leader who was a great Indian leader who was born on October 2, 1869. He was a great leader\n"
          ]
        }
      ],
      "source": [
        "# TODO unit tests\n",
        "run_unit_test(QUOTEE_OF_QUOTE_PROMPT, \"Who said the famous quote: \\\"One thing I know,that is I know nothing\\\"?\", \"Socrates\" )\n",
        "run_unit_test(QUOTEE_OF_QUOTE_PROMPT, \"Who said the famous quote: \\\"The only way to do great work is to love what you do.\\\"?\", \"Steve Jobs\" )\n",
        "run_unit_test(QUOTEE_OF_QUOTE_PROMPT, \"Who said the famous quote: \\\"Be the change you want to see in the world\\\"?\", \"Mahatma Gandhi\" )\n"
      ]
    },
    {
      "cell_type": "markdown",
      "metadata": {
        "id": "wVeL7QAhe4Xf"
      },
      "source": [
        "run_unit_test(QUOTEE_OF_QUOTE_PROMPT, \"Who said the famous quote: One thing I know,that is I know nothing?\", \"Socrates\" )\n",
        "**Please include the prompt, unit tests, and output in your `report.pdf`**\n",
        "\n",
        "**Problem 1.6:** Extend the prompt from 1.5 by completing this one without question marks (\"?\") or question words (\"Who\", \"What\", etc.). You will only get credit if your prompt does not contain those. Hint: Reading, Section 2, may help you with this if you can't figure it out."
      ]
    },
    {
      "cell_type": "code",
      "execution_count": 50,
      "metadata": {
        "id": "5tYTC7wsfSv1",
        "colab": {
          "base_uri": "https://localhost:8080/"
        },
        "outputId": "1b8bc2d8-faf9-4c36-f4ac-5e84d9969b4c"
      },
      "outputs": [
        {
          "output_type": "stream",
          "name": "stdout",
          "text": [
            "Socrates\n",
            "Steve Jobs\n",
            "Mahatma Gandhi\n"
          ]
        }
      ],
      "source": [
        "# TODO\n",
        "EXTENDED_QUOTEE_OF_QUOTE_PROMPT = \"Question: Identify the person says the famous quote: {input} Answer:\"\n",
        "print(run_gpt3(EXTENDED_QUOTEE_OF_QUOTE_PROMPT.replace(\"{input}\", \"One thing I know,that is I know nothing\")))\n",
        "print(run_gpt3(EXTENDED_QUOTEE_OF_QUOTE_PROMPT.replace(\"{input}\", \"The only way to do great work is to love what you do.\")))\n",
        "print(run_gpt3(EXTENDED_QUOTEE_OF_QUOTE_PROMPT.replace(\"{input}\", \"Be the change you want to see in the world\")))"
      ]
    },
    {
      "cell_type": "code",
      "execution_count": 52,
      "metadata": {
        "colab": {
          "base_uri": "https://localhost:8080/"
        },
        "id": "bPM5gLsXfS91",
        "outputId": "c96b71b3-4609-4866-bcd1-c9353292bd8c"
      },
      "outputs": [
        {
          "output_type": "stream",
          "name": "stdout",
          "text": [
            "Expected: Socrates\n",
            "Actual: Socrates\n",
            "Expected: Steve Jobs\n",
            "Actual: Steve Jobs\n",
            "Expected: Gandhi\n",
            "Actual: Gandhi\n"
          ]
        }
      ],
      "source": [
        "# TODO unit tests\n",
        "run_unit_test(QUOTEE_OF_QUOTE_PROMPT, \"Identify the person says the famous quote: One thing I know,that is I know nothing\", \"Socrates\" )\n",
        "run_unit_test(QUOTEE_OF_QUOTE_PROMPT, \"Identify the person says the famous quote: The only way to do great work is to love what you do.\", \"Steve Jobs\" )\n",
        "run_unit_test(QUOTEE_OF_QUOTE_PROMPT, \"Identify the person says the famous quote: Be the change you want to see in the world\", \"Gandhi\")\n"
      ]
    },
    {
      "cell_type": "markdown",
      "metadata": {
        "id": "jpJIgznD_mw4"
      },
      "source": [
        "# Section 2: Prompt Engineering (20 points)\n",
        "\n",
        "---\n",
        "\n",
        "\n",
        "\n",
        "The prompts you have used up to this point have been fairly basic and straightforward to create. But what if you have a more difficult task and it seems like your prompt isn't working? *Prompt engineering* is the procecss of iterating on a prompt in clever ways to induce the model to produce what you want. The best way of prompt engineering systematically vs. randomly is by understanding how the underlying model was trained and what data it was trained on to best prompt the model.\n",
        "\n",
        "Imagine we want the model to generate a quote in Donald Trump's style of talking about a certain topic:"
      ]
    },
    {
      "cell_type": "code",
      "execution_count": 53,
      "metadata": {
        "colab": {
          "base_uri": "https://localhost:8080/"
        },
        "execution": {
          "iopub.status.busy": "2024-02-16T04:26:35.633570Z",
          "iopub.status.idle": "2024-02-16T04:26:35.634439Z",
          "shell.execute_reply": "2024-02-16T04:26:35.634205Z",
          "shell.execute_reply.started": "2024-02-16T04:26:35.634176Z"
        },
        "id": "AwBHGjCc6fdu",
        "outputId": "9f099467-4fdf-47c0-9d34-ff35c4294a38",
        "trusted": true
      },
      "outputs": [
        {
          "output_type": "stream",
          "name": "stdout",
          "text": [
            "He would say it’s a “great time to buy.”\n",
            "I don't know what the hell is going on with the stock market. I don't know what's going on with the stock market. I don't know what's going on with the stock market. I don't know what's going on with the stock market. I don't know what's going on with the stock market. I don't know what's going on with the stock market. I don't know what's going on with the stock market. I don't know what's going\n",
            "I think the stock market is going to go up a lot\". The Dow Jones Industrial Average rose 0.5 percent to 24,000. The S&P 500 rose 0.5 percent to 2,600. The Nasdaq Composite Index rose 0.5 percent to 7,100.\n",
            "I don't know if it's going to go up or down\". The Dow Jones Industrial Average fell 0.3 percent to 24,000.54, the S&P 500 lost 0.3 percent to 2,600.97 and the Nasdaq Composite dropped 0.4 percent to 7,075.68.\n"
          ]
        }
      ],
      "source": [
        "DONALD_TRUMP_PROMPT = \"Question: What would Donald Trump say about {input}? Answer:\"\n",
        "DONALD_TRUMP_PROMPT_ENGINEERED_1 = 'On the topic of {input}, Donald Trump was quoted as saying \"'\n",
        "DONALD_TRUMP_PROMPT_ENGINEERED_2 = 'On the topic of {input}, Donald Trump expressed optimism saying \"'\n",
        "DONALD_TRUMP_PROMPT_ENGINEERED_3 = 'On the topic of {input}, Donald Trump expressed doubt saying \"'\n",
        "\n",
        "print(run_gpt3(DONALD_TRUMP_PROMPT.replace(\"{input}\", 'the stock market'))) # Doesn't work\n",
        "print(run_gpt3(DONALD_TRUMP_PROMPT_ENGINEERED_1.replace(\"{input}\", 'the stock market'))) # Works!\n",
        "print(run_gpt3(DONALD_TRUMP_PROMPT_ENGINEERED_2.replace(\"{input}\", 'the stock market'))) # Works!\n",
        "print(run_gpt3(DONALD_TRUMP_PROMPT_ENGINEERED_3.replace(\"{input}\", 'the stock market'))) # Works!"
      ]
    },
    {
      "cell_type": "markdown",
      "metadata": {
        "id": "1PhkpaGlCVPf"
      },
      "source": [
        "The first naive prompt doesn't really work. After prompt engineering, not only do we get a much more realistic generation of his style, but we can also control whether he is talking about the topic positively or negatively.\n",
        "\n",
        "**Please respond to the following question in your `report.pdf`**\n",
        "\n",
        "* **Problem 2.1:** Why did the `DONALD_TRUMP_PROMPT_ENGINEERED_1` prompt work much better than the `DONALD_TRUMP_PROMPT` prompt? (Word Limit: 100 words)\n",
        "\n",
        "`DONALD_TRUMP_PROMPT`, the construction of the question is relatively complex, making it challenging for GPT-3 to accurately comprehend and generate appropriate responses. The question is not clear, and there are insufficient examples provided for GPT-3 to learn from.\n",
        "`DONALD_TRUMP_PROMPT_ENGINEERED_1` adopts a prompt engineering approach. It systematically assists GPT-3 in understanding our intent. By providing a statement like \"On the topic of {input}, Donald Trump was quoted as saying,\" along with GPT-3's sensitivity to structure and conversation, it better guides GPT-3 to precisely grasp the question. Instead of letting GPT-3 guess the question and attempt one possible answer, this engineered prompt allows GPT-3 to have a clearer understanding, resulting in more targeted responses."
      ]
    },
    {
      "cell_type": "markdown",
      "metadata": {
        "id": "aEkQ_gUOTPOT"
      },
      "source": [
        "A prompt that is well-engineered can effectively solve difficult NLP tasks that previously were solved by fine-tuning models. In lecture, we showed some examples of these.\n",
        "\n",
        "**Problem 2.2:** Write a prompt that will solve the [sentiment classification task](https://en.wikipedia.org/wiki/Sentiment_analysis), and classify [movie reviews](https://ai.stanford.edu/~amaas/data/sentiment/) as *positive* or *negative*. `IMDB_DATASET_X` and `IMDB_DATASET_Y` contain 50 reviews and sentiment labels (1 = positive, 0 = negative). Get as high of an accuracy as you can on these. Place your `MOVIE_SENTIMENT` prompt and `POSITIVE_VEBALIZERS` and `NEGATIVE_VERBALIZERS` in `report.pdf` for manual grading. Along with your `correct` (out of 50) score.\n",
        "\n",
        "*Warning:* Be careful not to exhaust your free OpenAI credits while testing, you can check [on this page here](https://platform.openai.com/account/usage). To avoid exhausting your credits quickly, test your code on a few examples from the IMDB dataset first, and then scale up to the full 50."
      ]
    },
    {
      "cell_type": "code",
      "execution_count": 93,
      "metadata": {
        "execution": {
          "iopub.status.busy": "2024-02-16T04:26:35.635600Z",
          "iopub.status.idle": "2024-02-16T04:26:35.636048Z",
          "shell.execute_reply": "2024-02-16T04:26:35.635825Z",
          "shell.execute_reply.started": "2024-02-16T04:26:35.635808Z"
        },
        "id": "FivGbeAmVOK7",
        "trusted": true,
        "colab": {
          "base_uri": "https://localhost:8080/",
          "height": 0
        },
        "outputId": "23f92b00-c40b-4c20-93ee-ad8e260120ca"
      },
      "outputs": [
        {
          "output_type": "stream",
          "name": "stdout",
          "text": [
            "Prediction: 1, Label: 1\n",
            "Prediction: 1, Label: 1\n",
            "Prediction: 1, Label: 0\n",
            "Prediction: 1, Label: 1\n",
            "Prediction: 0, Label: 0\n",
            "Prediction: 1, Label: 1\n",
            "Prediction: 1, Label: 1\n",
            "Prediction: 0, Label: 0\n",
            "Prediction: 0, Label: 0\n",
            "Prediction: 1, Label: 1\n",
            "Prediction: 1, Label: 1\n",
            "Prediction: 1, Label: 0\n",
            "Prediction: 0, Label: 0\n",
            "Prediction: 1, Label: 0\n",
            "Prediction: 1, Label: 1\n",
            "Prediction: 1, Label: 1\n",
            "Prediction: 1, Label: 0\n",
            "Prediction: 0, Label: 0\n",
            "Prediction: 1, Label: 1\n",
            "Prediction: 1, Label: 1\n",
            "Prediction: 0, Label: 0\n",
            "Prediction: 0, Label: 0\n",
            "Prediction: 0, Label: 0\n",
            "Prediction: 1, Label: 1\n",
            "Prediction: 0, Label: 0\n",
            "Prediction: 1, Label: 1\n",
            "Prediction: 1, Label: 0\n",
            "Prediction: 1, Label: 1\n",
            "Prediction: 1, Label: 1\n",
            "Prediction: 0, Label: 1\n",
            "Prediction: 1, Label: 0\n",
            "Prediction: 1, Label: 0\n",
            "Prediction: 1, Label: 1\n",
            "Prediction: 0, Label: 0\n",
            "Prediction: 1, Label: 0\n",
            "Prediction: 1, Label: 1\n",
            "Prediction: 1, Label: 0\n",
            "Prediction: 1, Label: 0\n",
            "Prediction: 0, Label: 0\n",
            "Prediction: 0, Label: 0\n",
            "Prediction: 1, Label: 0\n",
            "Prediction: 1, Label: 0\n",
            "Prediction: 0, Label: 0\n",
            "Prediction: 0, Label: 0\n",
            "Prediction: 0, Label: 0\n",
            "Prediction: 1, Label: 1\n",
            "Prediction: 0, Label: 1\n",
            "Prediction: 1, Label: 1\n",
            "Prediction: 1, Label: 1\n",
            "Prediction: 0, Label: 0\n",
            "Correct: 36/50\n"
          ]
        }
      ],
      "source": [
        "# TODO\n",
        "MOVIE_SENTIMENT_PROMPT = \"Question: Do you think this movie is worthy watching: {input}? Answer:\"\n",
        "\n",
        "POSITIVE_VERBALIZERS = [\n",
        "    \"good\",\n",
        "    \"of course\",\n",
        "    \"i think\",\n",
        "    \"yes\",\n",
        "    \"have seen\",\n",
        "    \"agree\",\n",
        "    \"possibly\",\n",
        "    \"love\",\n",
        "    \"7\",\n",
        "    \"i think this\",\n",
        "    \"worth\"\n",
        "    # TODO - Add other positive verbalizers ...\n",
        "]\n",
        "NEGATIVE_VERBALIZERS = [\n",
        "    \"bad\",\n",
        "    \"no\",\n",
        "    \"don't\"\n",
        "    # TODO - Add other negative verbalizers ...\n",
        "]\n",
        "\n",
        "def map_to_sentiment_label(gpt3_output):\n",
        "    for v in POSITIVE_VERBALIZERS:\n",
        "        if v.lower() in gpt3_output[:20].lower():\n",
        "            return 1\n",
        "    for v in NEGATIVE_VERBALIZERS:\n",
        "        if v.lower() in gpt3_output[:20].lower():\n",
        "            return 0\n",
        "    return None\n",
        "\n",
        "correct = 0\n",
        "for review, label in zip(IMDB_DATASET_X, IMDB_DATASET_Y):\n",
        "    gpt3_output = run_gpt3(MOVIE_SENTIMENT_PROMPT.replace(\"{input}\", review))\n",
        "    prediction = map_to_sentiment_label(gpt3_output)\n",
        "    if prediction == label:\n",
        "        correct += 1\n",
        "    print(f\"Prediction: {prediction}, Label: {label}\")\n",
        "print(f\"Correct: {correct}/50\")"
      ]
    },
    {
      "cell_type": "markdown",
      "metadata": {
        "id": "gsi2i4y64kvP"
      },
      "source": [
        "# Section 3: Few-Shot Prompting (20 points)\n",
        "\n",
        "The prompts you have seen up until this point are zero-shot prompts, in that we are asking the model to complete a task without any examples. By providing some examples in the prompt, the model becomes significantly more capable. We'll show an example.\n",
        "\n",
        "Consider the task of figuring out a more complex version of a word:"
      ]
    },
    {
      "cell_type": "code",
      "execution_count": 98,
      "metadata": {
        "colab": {
          "base_uri": "https://localhost:8080/",
          "height": 0
        },
        "execution": {
          "iopub.status.busy": "2024-02-16T04:26:35.637584Z",
          "iopub.status.idle": "2024-02-16T04:26:35.638001Z",
          "shell.execute_reply": "2024-02-16T04:26:35.637790Z",
          "shell.execute_reply.started": "2024-02-16T04:26:35.637774Z"
        },
        "id": "RZs-_4-S_vww",
        "outputId": "87d1141c-5357-4dae-b8ac-f3d50022292f",
        "trusted": true
      },
      "outputs": [
        {
          "output_type": "stream",
          "name": "stdout",
          "text": [
            "Zero shot:  Confused. Confused is a word that is used to describe a person who is confused. Confused is a word that is used to describe a person who is confused. Confused is a word that is used to describe a person who is confused. Confused is a word that is used to describe a person who is confused. Confused is a word that is used to describe a person who is confused. Confused is a word that is used to describe a person who is confused. Conf\n",
            "Few shot:  bewildered\n"
          ]
        }
      ],
      "source": [
        "ZERO_SHOT_COMPLEX_PROMPT = \"Question: What is a more complex word for {input}? Answer:\"\n",
        "FEW_SHOT_COMPLEX_PROMPT = \"angry : aggrieved\\nsad : depressed\\n{input} :\"\n",
        "\n",
        "print(\"Zero shot: \", run_gpt3(ZERO_SHOT_COMPLEX_PROMPT.replace(\"{input}\", 'confused'))) # Doesn't work\n",
        "print(\"Few shot: \", run_gpt3(FEW_SHOT_COMPLEX_PROMPT.replace(\"{input}\", 'confused'))) # Works!"
      ]
    },
    {
      "cell_type": "markdown",
      "metadata": {
        "id": "yotgY6JWHCRL"
      },
      "source": [
        "The first zero-shot prompt where we have no example doesn't work at all, where as when we give 2 examples in the few-shot prompt (2-shot prompt), it works.\n",
        "\n",
        "Now that you've seen an example of few-shot prompting, it's your turn to try it.\n",
        "\n",
        "**Please include the prompt, unit tests, and output in your `report.pdf`**\n",
        "\n",
        "**Problem 3.1:** Write a few-shot prompt that translates a Spanish word to an English word."
      ]
    },
    {
      "cell_type": "code",
      "execution_count": 55,
      "metadata": {
        "execution": {
          "iopub.status.busy": "2024-02-16T04:26:35.639406Z",
          "iopub.status.idle": "2024-02-16T04:26:35.639775Z",
          "shell.execute_reply": "2024-02-16T04:26:35.639609Z",
          "shell.execute_reply.started": "2024-02-16T04:26:35.639593Z"
        },
        "id": "lEf2PB9WHSus",
        "trusted": true,
        "colab": {
          "base_uri": "https://localhost:8080/"
        },
        "outputId": "a605f75c-c3d6-44da-e3d2-86a064e7ed44"
      },
      "outputs": [
        {
          "output_type": "stream",
          "name": "stdout",
          "text": [
            "Thanks\n",
            "Music\n",
            "House\n"
          ]
        }
      ],
      "source": [
        "# TODO\n",
        "SPANISH_TO_ENGLISH_PROMPT = \"Hola : Hello\\nAdiós : Bye\\n{input} :\"\n",
        "print(run_gpt3(SPANISH_TO_ENGLISH_PROMPT.replace(\"{input}\", \"Gracias\")))\n",
        "print(run_gpt3(SPANISH_TO_ENGLISH_PROMPT.replace(\"{input}\", \"Musica\")))\n",
        "print(run_gpt3(SPANISH_TO_ENGLISH_PROMPT.replace(\"{input}\", \"Casa\")))\n"
      ]
    },
    {
      "cell_type": "code",
      "execution_count": 56,
      "metadata": {
        "colab": {
          "base_uri": "https://localhost:8080/"
        },
        "id": "ZpIXJVfAeBDk",
        "outputId": "b697c9bf-a96c-4c29-d68a-25f71d0abdfa"
      },
      "outputs": [
        {
          "output_type": "stream",
          "name": "stdout",
          "text": [
            "Expected: Thank\n",
            "Actual: Thank you\n",
            "Expected: Music\n",
            "Actual: Music\n",
            "Expected: House\n",
            "Actual: House\n"
          ]
        }
      ],
      "source": [
        "# TODO unit tests\n",
        "run_unit_test(SPANISH_TO_ENGLISH_PROMPT, \"Hola : Hello\\nAdiós : Bye\\nGracias\", \"Thank\")\n",
        "run_unit_test(SPANISH_TO_ENGLISH_PROMPT, \"Hola : Hello\\nAdiós : Bye\\nMusica\", \"Music\")\n",
        "run_unit_test(SPANISH_TO_ENGLISH_PROMPT, \"Hola : Hello\\nAdiós : Bye\\nCasa\", \"House\")\n"
      ]
    },
    {
      "cell_type": "markdown",
      "metadata": {
        "id": "afOSMXJ7U-ty"
      },
      "source": [
        "**Please include the prompt, unit tests, and output in your `report.pdf`**\n",
        "\n",
        "**Problem 3.2:** Write a few-shot prompt that converts an input into a [Jeopardy! style answer](https://en.wikipedia.org/wiki/Jeopardy!#:~:text=Rather%20than%20being%20given%20questions,the%20form%20of%20a%20question.) (The Great Lakes -> \"What are the Great Lakes?\" or Taylor Swift -> \"Who is Taylor Swift?\")"
      ]
    },
    {
      "cell_type": "code",
      "execution_count": 57,
      "metadata": {
        "execution": {
          "iopub.status.busy": "2024-02-16T04:26:35.640875Z",
          "iopub.status.idle": "2024-02-16T04:26:35.641292Z",
          "shell.execute_reply": "2024-02-16T04:26:35.641125Z",
          "shell.execute_reply.started": "2024-02-16T04:26:35.641108Z"
        },
        "id": "iPxTwMR8V92B",
        "trusted": true,
        "colab": {
          "base_uri": "https://localhost:8080/"
        },
        "outputId": "c14e09bc-dab1-4fbf-ecaf-b72d63ac7c56"
      },
      "outputs": [
        {
          "output_type": "stream",
          "name": "stdout",
          "text": [
            "What is Washington?\n",
            "What is Lake Tahoe?\n",
            "What is Monument Valley?\n"
          ]
        }
      ],
      "source": [
        "# TODO\n",
        "TO_JEOPARDY_ANSWER_PROMPT = \"The Great Lakes  ->  What are the Great Lakes?\\nTaylor Swift ->  Who is Taylor Swift?\\n{input} -> \"\n",
        "print(run_gpt3(TO_JEOPARDY_ANSWER_PROMPT.replace(\"{input}\", \"Washington\")))\n",
        "print(run_gpt3(TO_JEOPARDY_ANSWER_PROMPT.replace(\"{input}\", \"Lake Tahoe\")))\n",
        "print(run_gpt3(TO_JEOPARDY_ANSWER_PROMPT.replace(\"{input}\", \"Monument Valley\")))"
      ]
    },
    {
      "cell_type": "code",
      "execution_count": 58,
      "metadata": {
        "colab": {
          "base_uri": "https://localhost:8080/"
        },
        "id": "rjgD-oogeCmv",
        "outputId": "d8a29810-0ef5-4c3f-e656-c3ce89ca18dd"
      },
      "outputs": [
        {
          "output_type": "stream",
          "name": "stdout",
          "text": [
            "Expected: What is Washington?\n",
            "Actual: What is Washington?\n",
            "Expected: What is Lake Tahoe?\n",
            "Actual: What is Lake Tahoe?\n",
            "Expected: What is Monument Valley?\n",
            "Actual: What is Monument Valley?\n"
          ]
        }
      ],
      "source": [
        "# TODO unit tests\n",
        "run_unit_test(TO_JEOPARDY_ANSWER_PROMPT, \"The Great Lakes  ->  What are the Great Lakes?\\nTaylor Swift ->  Who is Taylor Swift?\\nWashington -> \", \"What is Washington?\")\n",
        "run_unit_test(TO_JEOPARDY_ANSWER_PROMPT, \"The Great Lakes  ->  What are the Great Lakes?\\nTaylor Swift ->  Who is Taylor Swift?\\nLake Tahoe -> \", \"What is Lake Tahoe?\")\n",
        "run_unit_test(TO_JEOPARDY_ANSWER_PROMPT, \"The Great Lakes  ->  What are the Great Lakes?\\nTaylor Swift ->  Who is Taylor Swift?\\nMonument Valley -> \", \"What is Monument Valley?\")\n"
      ]
    },
    {
      "cell_type": "markdown",
      "metadata": {
        "id": "ZykJv03wYrb8"
      },
      "source": [
        "**Please respond to the following question in your `report.pdf`**\n",
        "\n",
        "**Problem 3.3:** Come up with 3 more arbitrary tasks, where a zero-shot prompt might not suffice, and a few-shot prompt would be required. Provide a short write up describing what your tasks are. Provide examples of a zero-prompt not working for it. Then, show us your few-shot prompt and some results. Be creative and try to pick 3 tasks that are somewhat distinct from each other!\n",
        "\n"
      ]
    },
    {
      "cell_type": "markdown",
      "source": [
        "Task 1: summary article in 5 words  \n",
        "if we want to summary article in some words, and if we just say \"summary the article in 5 words\", they do not understand, And only when we do few-shot prompt, GPT will understand and do what we want.  \n"
      ],
      "metadata": {
        "id": "s2z11K5iMjR9"
      }
    },
    {
      "cell_type": "code",
      "source": [
        "zero_shot_PROMPT = \"Question: write a summary in 5 words of {input} Answer:?\"\n",
        "article = \"In the morning sunlight, the small town awakens. The streets are filled with the aroma of coffee as people rush by, revealing the hustle and bustle of life. An elderly man sits on a park bench, leisurely sipping hot tea, reflecting on the changing seasons of life. Street vendors set up their stalls, greeting passersby, and the market is alive with vitality and laughter. Children play joyfully at the school gate, their backpacks carrying endless dreams. Though this town may seem unremarkable, it is brimming with warmth and vibrancy. Each person is a part of this story, weaving their own tapestry of small happiness.\"\n",
        "print(run_gpt3(zero_shot_PROMPT.replace(\"{input}\", article)))\n",
        "\n",
        "few_shot_PROMPT = \"In the quiet solitude of twilight, the cityscape transforms into a canvas of shimmering lights. A lone figure walks along the riverside, where the city's heartbeat meets the tranquil flow of water. Street vendors pack up, leaving behind echoes of the day's vibrancy. Above, stars twinkle in a celestial dance, offering a respite from the urban bustle. Amidst the nocturnal symphony, dreams awaken, and the city finds its second wind. Nightfall is a silent reverie, a bridge between reality and the fantastical. In this delicate balance, the metropolis reveals its enchanting dual nature—calm yet alive, a nocturnal serenade. :Twilight, City Lights, Solitude, Nocturnal Symphony, Urban Enchantment. {input}:\"\n",
        "print(run_gpt3(few_shot_PROMPT.replace(\"{input}\", article), instruction_tuned=True))"
      ],
      "metadata": {
        "colab": {
          "base_uri": "https://localhost:8080/"
        },
        "id": "DHT-5eoxIG6K",
        "outputId": "a01339f7-77b5-41d9-9acb-a2048c2fefb2"
      },
      "execution_count": 77,
      "outputs": [
        {
          "output_type": "stream",
          "name": "stdout",
          "text": [
            "The town is a small town in the United States. The town is a small town in the United States. The town is a small town in the United States. The town is a small town in the United States. The town is a small town in the United States. The town is a small town in the United States. The town is a small town in the United States. The town is a small town in the United States. The town is a small town in the United States. The\n",
            "Morning Sunlight, Small Town, Changing Seasons, Hustle and Bustle, Warmth and Vibrancy, Small Happiness.\n"
          ]
        }
      ]
    },
    {
      "cell_type": "markdown",
      "source": [
        "Task 2: Give a possible reason for one thing  \n",
        "If we only say to give a possible reason for one situation, GPT-3 may be confused about what we want to do. But if we give an example, then it will learn from it."
      ],
      "metadata": {
        "id": "lZB2V0n_MkEr"
      }
    },
    {
      "cell_type": "code",
      "source": [
        "zero_shot_PROMPT = \"Question: write a possible reason why {input} happen Answer:?\"\n",
        "article = \"I'll take you to see a movie\"\n",
        "print(run_gpt3(zero_shot_PROMPT.replace(\"{input}\", article)))\n",
        "\n",
        "few_shot_PROMPT = \"I'll go shopping with you: Because you are my girlfriend {input}:\"\n",
        "print(run_gpt3(few_shot_PROMPT.replace(\"{input}\", article), instruction_tuned=True))"
      ],
      "metadata": {
        "colab": {
          "base_uri": "https://localhost:8080/"
        },
        "id": "q5jGUCjjNXTV",
        "outputId": "e2027177-5f72-49c5-8853-52ff79fc1f68"
      },
      "execution_count": 78,
      "outputs": [
        {
          "output_type": "stream",
          "name": "stdout",
          "text": [
            "I'm not sure if I'm going to be able to go to the movie with you. I'm not sure if I'm going to be able to go to the movie with you. I'm not sure if I'm going to be able to go to the movie with you. I'm not sure if I'm going to be able to go to the movie with you. I'm not sure if I'm going to be able to go to the movie with you. I'm not sure if\n",
            "I want to spend quality time with you and make you happy. Plus, I love watching movies with you.\n"
          ]
        }
      ]
    },
    {
      "cell_type": "markdown",
      "source": [
        "Task 3: Asking for allergens for one food  \n",
        "if we want it to list, it may not understand we want the answer to be related to the food we provide, But if we give some examples, it will know what we are asking for the allergens within the food."
      ],
      "metadata": {
        "id": "2UHtb5vcNXhY"
      }
    },
    {
      "cell_type": "code",
      "source": [
        "zero_shot_PROMPT = \"Query: list potential allergen for {input} Response:?\"\n",
        "food = \"muffin cake\"\n",
        "print(run_gpt3(zero_shot_PROMPT.replace(\"{input}\", food)))\n",
        "\n",
        "few_shot_PROMPT = \"blueberry croissant: blueberry, gluten {input}:\"\n",
        "print(run_gpt3(few_shot_PROMPT.replace(\"{input}\", food), instruction_tuned=True))"
      ],
      "metadata": {
        "colab": {
          "base_uri": "https://localhost:8080/"
        },
        "id": "Uj8ym_fcP3MZ",
        "outputId": "aeeef112-ee86-4201-a2ae-147361a040aa"
      },
      "execution_count": 83,
      "outputs": [
        {
          "output_type": "stream",
          "name": "stdout",
          "text": [
            "I am allergic to eggs, milk, and wheat. I am allergic to peanuts, tree nuts, and soy. I am allergic to fish. I am allergic to shellfish. I am allergic to shellfish. I am allergic to shellfish. I am allergic to shellfish. I am allergic to shellfish. I am allergic to shellfish. I am allergic to shellfish. I am allergic to shellfish. I am allergic to shellfish. I am allergic to shellfish. I\n",
            "gluten, sugar\n"
          ]
        }
      ]
    },
    {
      "cell_type": "markdown",
      "metadata": {
        "id": "xfGRGgLCc38j"
      },
      "source": [
        "# Section 4: Prompting Instruction-Tuned Models (18 points)\n",
        "\n",
        "Large language models can be *instruction-tuned*, fine-tuned with examples of instructions and responses to those instructions, to make them easier to prompt and friendlier to humans. Instruction-tuned models can more easily be given natural language instructions describing a task you want them to complete. This makes it so that they are more performant without requiring as much prompt engineering and makes them more likely to succeed with just zero-shot prompting. The version of GPT-3 we were working with in previous exercises was not instruction-tuned, we now will use instruction-tuned models from here on out:"
      ]
    },
    {
      "cell_type": "code",
      "execution_count": 110,
      "metadata": {
        "colab": {
          "base_uri": "https://localhost:8080/",
          "height": 0
        },
        "execution": {
          "iopub.execute_input": "2024-02-20T22:08:43.710662Z",
          "iopub.status.busy": "2024-02-20T22:08:43.710166Z",
          "iopub.status.idle": "2024-02-20T22:08:44.838337Z",
          "shell.execute_reply": "2024-02-20T22:08:44.837174Z",
          "shell.execute_reply.started": "2024-02-20T22:08:43.710624Z"
        },
        "id": "HC0Rc41Hdikw",
        "outputId": "bafd80e2-745b-46da-d822-60d4d1e80351",
        "trusted": true
      },
      "outputs": [
        {
          "output_type": "stream",
          "name": "stdout",
          "text": [
            "That's the question that's been on the minds of many a Jeopardy! contestant since the show's debut in 1984. The answer is \"Taylor Swift,\" and the contestant who got it right was a 21-year-old from New York named Ryan. Ryan was the first contestant to correctly answer the question, and he was rewarded with $10,000. Ryan's answer was \"Taylor Swift,\" and he was the first contestant to correctly answer the question, and he was rewarded with\n",
            "\"What is the name of the Grammy-winning singer-songwriter known for hits like 'Shake It Off' and 'Blank Space'?\"\n"
          ]
        }
      ],
      "source": [
        "TO_JEOPARDY_INSTRUCTION_PROMPT = \"What would a Jeopardy! contestant say if the answer was \\\"{input}\\\"?\"\n",
        "\n",
        "print(run_gpt3(TO_JEOPARDY_INSTRUCTION_PROMPT.replace(\"{input}\", 'Taylor Swift'))) # Doesn't work on non-instruction tuned model\n",
        "print(run_gpt3(TO_JEOPARDY_INSTRUCTION_PROMPT.replace(\"{input}\", 'Taylor Swift'), instruction_tuned=True)) # Works and is simpler!"
      ]
    },
    {
      "cell_type": "markdown",
      "metadata": {
        "id": "zl-njdLbg6Hr"
      },
      "source": [
        "As you can see, these instruction-tuned models make it much simpler to complete complex tasks since you can \"talk\" to them naturally. We'll now ask you to try.\n",
        "\n",
        "**Please include the prompt, unit tests, and output in your `report.pdf`**\n",
        "\n",
        "**Problem 4.1:** Write a prompt that returns the syllables of a word (music -> mu-sic)."
      ]
    },
    {
      "cell_type": "code",
      "execution_count": 65,
      "metadata": {
        "execution": {
          "iopub.status.busy": "2024-02-16T04:26:35.648126Z",
          "iopub.status.idle": "2024-02-16T04:26:35.648597Z",
          "shell.execute_reply": "2024-02-16T04:26:35.648395Z",
          "shell.execute_reply.started": "2024-02-16T04:26:35.648377Z"
        },
        "id": "CoU6zfxps06_",
        "trusted": true,
        "colab": {
          "base_uri": "https://localhost:8080/"
        },
        "outputId": "cd5587f1-0e60-4d43-f000-b0e5df2ba324"
      },
      "outputs": [
        {
          "output_type": "stream",
          "name": "stdout",
          "text": [
            "de-vel-op\n",
            "ham-bur-ger\n",
            "el-e-phant\n"
          ]
        }
      ],
      "source": [
        "# TODO\n",
        "WORD_TO_SYLLABLES_PROMPT = \"try to split the word into syllables like music is mu-sic,{input}?\"\n",
        "\n",
        "print(run_gpt3(WORD_TO_SYLLABLES_PROMPT .replace(\"{input}\", \"develop\"), instruction_tuned=True))\n",
        "print(run_gpt3(WORD_TO_SYLLABLES_PROMPT .replace(\"{input}\", \"hamburger\"), instruction_tuned=True))\n",
        "print(run_gpt3(WORD_TO_SYLLABLES_PROMPT .replace(\"{input}\", \"elephant\"), instruction_tuned=True))"
      ]
    },
    {
      "cell_type": "code",
      "execution_count": 66,
      "metadata": {
        "colab": {
          "base_uri": "https://localhost:8080/"
        },
        "id": "3CLaWQjFeE1O",
        "outputId": "3880b0f1-d825-457b-b9a6-36cc435651f9"
      },
      "outputs": [
        {
          "output_type": "stream",
          "name": "stdout",
          "text": [
            "Expected: de-vel-op\n",
            "Actual: de-vel-op\n",
            "Expected: ham-bur-ger\n",
            "Actual: ham-bur-ger\n",
            "Expected: el-e-phant\n",
            "Actual: el-e-phant\n"
          ]
        }
      ],
      "source": [
        "# TODO unit tests\n",
        "run_unit_test(WORD_TO_SYLLABLES_PROMPT, \"try to split the word into syllables like music is mu-sic,develop? \", \"de-vel-op\", instruction_tuned=True)\n",
        "run_unit_test(WORD_TO_SYLLABLES_PROMPT, \"try to split the word into syllables like music is mu-sic,hamburger? \", \"ham-bur-ger\", instruction_tuned=True)\n",
        "run_unit_test(WORD_TO_SYLLABLES_PROMPT, \"try to split the word into syllables like music is mu-sic,elephant? \", \"el-e-phant\", instruction_tuned=True)\n"
      ]
    },
    {
      "cell_type": "markdown",
      "metadata": {
        "id": "8iBVRD-vfbCf"
      },
      "source": [
        "**Please include the prompt, unit tests, and output in your `report.pdf`**\n",
        "\n",
        "**Problem 4.2:** Modify the word to syllables prompt such that the model only returns the syllables and nothing else. You will only get credit if your model only returns returns the syllables and nothing else."
      ]
    },
    {
      "cell_type": "code",
      "execution_count": 67,
      "metadata": {
        "id": "Em04U_nofi5Z",
        "colab": {
          "base_uri": "https://localhost:8080/"
        },
        "outputId": "a5da1e78-ba9e-441f-a732-12f4790b05e9"
      },
      "outputs": [
        {
          "output_type": "stream",
          "name": "stdout",
          "text": [
            "\"de vel op\"\n",
            "\"ham bur ger\"\n",
            "is \"e le phant\"\n"
          ]
        }
      ],
      "source": [
        "# TODO\n",
        "MODIFIED_WORD_TO_SYLLABLES_PROMPT = \"try to split the word into syllables like music is \\\"mu sic\\\", and remove \\\"-\\\", {input}?\"\n",
        "print(run_gpt3(MODIFIED_WORD_TO_SYLLABLES_PROMPT .replace(\"{input}\", \"develop\"), instruction_tuned=True))\n",
        "print(run_gpt3(MODIFIED_WORD_TO_SYLLABLES_PROMPT .replace(\"{input}\", \"hamburger\"), instruction_tuned=True))\n",
        "print(run_gpt3(MODIFIED_WORD_TO_SYLLABLES_PROMPT .replace(\"{input}\", \"elephant\"), instruction_tuned=True))"
      ]
    },
    {
      "cell_type": "code",
      "execution_count": 68,
      "metadata": {
        "colab": {
          "base_uri": "https://localhost:8080/"
        },
        "id": "9vHGNYVcfjH_",
        "outputId": "42ecddbe-ca1c-4749-aec4-d4db8742f913"
      },
      "outputs": [
        {
          "output_type": "stream",
          "name": "stdout",
          "text": [
            "Expected: de vel op\n",
            "Actual: de vel op\n",
            "Expected: ham bur ger\n",
            "Actual: ham bur ger\n",
            "Expected: e le phant\n",
            "Actual: e le phant\n"
          ]
        }
      ],
      "source": [
        "# TODO unit tests\n",
        "run_unit_test(MODIFIED_WORD_TO_SYLLABLES_PROMPT, \"try to split the word into syllables like music is \\\"mu sic\\\", and remove \\\"-\\\", develop?\", \"de vel op\", instruction_tuned=True)\n",
        "run_unit_test(MODIFIED_WORD_TO_SYLLABLES_PROMPT, \"try to split the word into syllables like music is \\\"mu sic\\\", and remove \\\"-\\\", hamburger?\", \"ham bur ger\", instruction_tuned=True)\n",
        "run_unit_test(MODIFIED_WORD_TO_SYLLABLES_PROMPT, \"try to split the word into syllables like music is \\\"mu sic\\\", and remove \\\"-\\\", elephant?\", \"e le phant\", instruction_tuned=True)\n",
        "\n"
      ]
    },
    {
      "cell_type": "markdown",
      "metadata": {
        "id": "SSvhJyZUqNyz"
      },
      "source": [
        "**Please respond to the following question in your `report.pdf`**\n",
        "\n",
        "**Problem 4.3:** Come up with 3 more arbitrary tasks, where the non-instruction-tuned model might not suffice, and an instruction-tuned model would be required. Provide a short write up describing what your tasks are. Provide examples of a prompt not working on a non-instruction-tuned model. Then, show us your instruction prompt on an instruction-tuned model and some results. Be creative and try to pick 3 tasks that are somewhat distinct from each other!"
      ]
    },
    {
      "cell_type": "markdown",
      "source": [
        "Task 1: reverse the sentences  \n",
        "If we set instruction_tuned = True, it will know to reverse the text. But if not, it may be confused it's meaning to reverse the word or the character or something else"
      ],
      "metadata": {
        "id": "A618Z5XvR0Wu"
      }
    },
    {
      "cell_type": "code",
      "source": [
        "instruction_PROMPT = \"Reverse the following text: \\\"{input}\\\"\"\n",
        "\n",
        "print(run_gpt3(instruction_PROMPT.replace(\"{input}\", 'Hello, World!'), instruction_tuned=True))\n",
        "\n",
        "print(run_gpt3(instruction_PROMPT.replace(\"{input}\", 'Hello, World!')))\n"
      ],
      "metadata": {
        "colab": {
          "base_uri": "https://localhost:8080/"
        },
        "id": "ao8eSAp7Ro7v",
        "outputId": "a20ca808-fe11-44fd-c00e-99520fa9217a"
      },
      "execution_count": 86,
      "outputs": [
        {
          "output_type": "stream",
          "name": "stdout",
          "text": [
            "\"!dlroW ,olleH\"\n",
            "to \"Hello, World!\" and press Enter.\n"
          ]
        }
      ]
    },
    {
      "cell_type": "markdown",
      "source": [
        "Task 2: Find the sentiment of the text  \n",
        "once we set instruction_ttuned = True, it knows the result should be the sentimental analysis of the text. If not, it gives opposite sentiment of the text like \"love\" -> \"hate\""
      ],
      "metadata": {
        "id": "Bomqkgo4SaGC"
      }
    },
    {
      "cell_type": "code",
      "source": [
        "instruction_PROMPT = \"Determine the sentiment of: \\\"{input}\\\"\"\n",
        "\n",
        "print(run_gpt3(instruction_PROMPT.replace(\"{input}\", 'I love the sunny weather.'), instruction_tuned=True))\n",
        "\n",
        "print(run_gpt3(instruction_PROMPT.replace(\"{input}\", 'I love the sunny weather.')))\n"
      ],
      "metadata": {
        "colab": {
          "base_uri": "https://localhost:8080/"
        },
        "id": "9qpIPxspSG4K",
        "outputId": "cec169f8-5c7b-4466-b733-64c72e998711"
      },
      "execution_count": 89,
      "outputs": [
        {
          "output_type": "stream",
          "name": "stdout",
          "text": [
            "Positive\n",
            "\"I hate the rainy weather.\" \"I love the rainy weather.\" \"I hate the sunny weather.\" \"I love the sunny weather.\" \"I hate the rainy weather.\" \"I love the rainy weather.\" \"I hate the sunny weather.\" \"I love the sunny weather.\" \"I hate the rainy weather.\" \"I love the sunny weather.\" \"I hate the rainy weather.\" \"I love the sunny weather.\" \"I hate the rainy weather.\" \"I love the sunny weather.\" \"I\n"
          ]
        }
      ]
    },
    {
      "cell_type": "markdown",
      "source": [
        "Task 3: Do the translation  \n",
        "I want to translate the english text into chinese, And obviously, if the instruction_tuned=True, it will do the translation. But if not, it's just answering the question"
      ],
      "metadata": {
        "id": "n28WZX6hS7UB"
      }
    },
    {
      "cell_type": "code",
      "source": [
        "instruction_PROMPT = \"Translate the following English text to Chinese: \\\"{input}\\\"\"\n",
        "\n",
        "print(run_gpt3(instruction_PROMPT.replace(\"{input}\", 'Hello, how are you?'), instruction_tuned=True))\n",
        "\n",
        "print(run_gpt3(instruction_PROMPT.replace(\"{input}\", 'Hello, how are you?')))\n"
      ],
      "metadata": {
        "colab": {
          "base_uri": "https://localhost:8080/"
        },
        "id": "07K_B5syStGN",
        "outputId": "540c9a38-9b67-4748-ead2-1d4dc869a586"
      },
      "execution_count": 90,
      "outputs": [
        {
          "output_type": "stream",
          "name": "stdout",
          "text": [
            "你好，你好吗？\n",
            "\"I am fine, thank you.\" \"I am fine, thank you.\" \"I am fine, thank you.\" \"I am fine, thank you.\" \"I am fine, thank you.\" \"I am fine, thank you.\" \"I am fine, thank you.\" \"I am fine, thank you.\" \"I am fine, thank you.\" \"I am fine, thank you.\" \"I am fine, thank you.\" \"I am fine, thank you.\" \"I am fine\n"
          ]
        }
      ]
    },
    {
      "cell_type": "markdown",
      "metadata": {
        "id": "bVbLbnc3rbbx"
      },
      "source": [
        "# Section 5: Chain-of-Thought Reasoning (30 points)\n",
        "\n",
        "One recent method to prompt large language models is Chain-of-Thought Prompting. This is similar to few-shot prompting, except you not only provide a few examples, but you also provide an explanation with a reasoning chain to the model. Providing this reasoning chain as been shown to improve performance on a wide variety of tasks.\n",
        "\n",
        "We demonstrate on a task that concatenates the last letter of names of length 2:"
      ]
    },
    {
      "cell_type": "code",
      "execution_count": 128,
      "metadata": {
        "colab": {
          "base_uri": "https://localhost:8080/",
          "height": 0
        },
        "id": "9HL_emeIHJjt",
        "outputId": "265808c7-30f2-484c-a1db-822ebd09cb78"
      },
      "outputs": [
        {
          "output_type": "stream",
          "name": "stdout",
          "text": [
            "-> ry\n",
            "the last letter of 'Stephen' is 'n' and the last letter of 'Curry' is 'y' -> ny\n"
          ]
        }
      ],
      "source": [
        "FEW_SHOT_CONCATENATION_PROMPT = '''\n",
        "Take the last letters of the words 'Alvin Bao' and concatenate them -> no,\n",
        "Take the last letters of the words 'Otto Bot' and concatenate them -> ot,\n",
        "Take the last letters of the words 'Behrang Mohit' and concatenate them -> gt,\n",
        "{input}\n",
        "'''\n",
        "COT_CONCATENATION_PROMPT = '''\n",
        "Take the last letters of the words 'Alvin Bao' and concatenate them\n",
        "the last letter of 'Alvin' is 'n' the last letter of 'Bao' is o -> no,\n",
        "Take the last letters of the words 'Otto Bot' and concatenate them\n",
        "the last letter of 'Otto' is 'o' the last letter of 'Bot' is t -> ot,\n",
        "Take the last letters of the words 'Behrang Mohit' and concatenate them\n",
        "the last letter of 'Behrang' is 'g' and the last letter of 'Mohit' is 't' -> gt,\n",
        "{input}\n",
        "'''\n",
        "\n",
        "print(run_gpt3(FEW_SHOT_CONCATENATION_PROMPT.replace(\"{input}\", \"Take the last letters of the words 'Stephen Curry' and concatenate them\"), instruction_tuned=True)) # Doesn't work without CoT prompting\n",
        "print(run_gpt3(COT_CONCATENATION_PROMPT.replace(\"{input}\", \"Take the last letters of the words 'Stephen Curry' and concatenate them\"), instruction_tuned=True)) # Works!"
      ]
    },
    {
      "cell_type": "markdown",
      "metadata": {
        "id": "Vwy3ToB2wAG9"
      },
      "source": [
        "Next, we create a dataset with 20 examples:"
      ]
    },
    {
      "cell_type": "code",
      "execution_count": 2,
      "metadata": {
        "id": "5XtfydODn12U"
      },
      "outputs": [],
      "source": [
        "import random\n",
        "import pandas as pd\n",
        "\n",
        "# Read first name and last name csvs into dataframes\n",
        "first_name_df = pd.read_csv(\"https://raw.githubusercontent.com/Ninble/name-census-top-100/main/first-name-database.csv\", sep=';')\n",
        "last_name_df = pd.read_csv(\"https://raw.githubusercontent.com/Ninble/name-census-top-100/main/surname-database.csv\", sep=';')\n",
        "\n",
        "# Filter only US names\n",
        "first_name_df = first_name_df[first_name_df[\"Country code\"] == \"US\"]\n",
        "last_name_df = last_name_df[last_name_df[\"Country code\"] == \"US\"]\n",
        "\n",
        "# Convert Name column into lists\n",
        "first_names = first_name_df[\"Name\"].tolist()\n",
        "last_names = last_name_df[\"Name\"].tolist()\n",
        "\n",
        "def create_concatenation_dataset(n_examples, seed = 42):\n",
        "    random.seed(seed)\n",
        "\n",
        "    X = []\n",
        "    y = []\n",
        "    for i in range(n_examples):\n",
        "        first_name = random.choice(first_names)\n",
        "        last_name = random.choice(last_names)\n",
        "        full_name = first_name + \" \" + last_name\n",
        "        X.append(f\"Take the last letters of the words '{full_name}' and concatenate them\")\n",
        "        y.append(first_name[-1] + last_name[-1])\n",
        "    return X, y\n",
        "\n",
        "def parse_answer(model_output):\n",
        "    '''Parses the output of the model to get the final answer.'''\n",
        "    try:\n",
        "        return model_output[-2:]\n",
        "    except:\n",
        "        return None\n",
        "\n",
        "concatenation_X, concatenation_y = create_concatenation_dataset(20)\n"
      ]
    },
    {
      "cell_type": "markdown",
      "metadata": {
        "id": "VHqtOpHp6Vjq"
      },
      "source": [
        "**Please respond to the following question in your `report.pdf`**\n",
        "\n",
        "**Problem 5.1:** Your job is to investigate how few-shot Chain-of-Thought prompting performs vs. regular few-shot prompting over the entire concatenation dataset and grade how many out of 20 are correct. Perform this experiment 5 times each with a different number of regular few-shot examples (1 example, 2 examples, 4 examples, 8 examples, 16 examples) and 5 times again each with a different number of Chain-of-Thought few-shot examples (1 CoT example, 2 CoT examples, 4 CoT examples, 8 CoT examples, 16 CoT examples).\n",
        "\n",
        "Create a table or plot of (N examples) vs. (% questions correct by the model with a few-shot prompt with N examples) vs. (% questions correct by the model with a CoT prompt with N examples). Report this table or plot in `report.pdf` with a short write-up about your observations. Keep the code used to build your table or plot in your notebook for inspection during grading.\n",
        "\n",
        "*Note #1:* Make sure you use `instruction_tuned = True`.\n",
        "\n",
        "*Note #2:* For the purposes of grading, you are **not required** to show the 200 (5 few-shot * 20 examples + 5 COT * 20 examples) examples in the cell output. However, please include the function you wrote to perform this evaluation in `report.pdf`.\n",
        "\n",
        "*Hint:* You might find the `parse_answer` function helpful when grading how many of the model's outputs are correct or not.\n",
        "\n",
        "*Warning:* Be careful not to exhaust your free OpenAI credits while testing, you can check [on this page here](https://platform.openai.com/account/usage). To avoid exhausting your credits quickly, test your code on a smaller concatenation dataset first, and then scale up to the full one to report your results."
      ]
    },
    {
      "cell_type": "code",
      "execution_count": 27,
      "metadata": {
        "execution": {
          "iopub.execute_input": "2024-02-20T22:50:19.011233Z",
          "iopub.status.busy": "2024-02-20T22:50:19.010763Z",
          "iopub.status.idle": "2024-02-20T22:50:40.831481Z",
          "shell.execute_reply": "2024-02-20T22:50:40.829819Z",
          "shell.execute_reply.started": "2024-02-20T22:50:19.011195Z"
        },
        "id": "z34fPG7g7yVM",
        "trusted": true,
        "colab": {
          "base_uri": "https://localhost:8080/",
          "height": 472
        },
        "outputId": "c28fdd5f-89e7-48c4-dfff-65a9e53b604b"
      },
      "outputs": [
        {
          "output_type": "display_data",
          "data": {
            "text/plain": [
              "<Figure size 640x480 with 1 Axes>"
            ],
            "image/png": "[encoded data removed]"
          },
          "metadata": {}
        }
      ],
      "source": [
        "# TODO - Solve Problem 5.1 here\n",
        "\n",
        "# regular few-shot examples\n",
        "\n",
        "def Score_Prompt(Prompt):\n",
        "  score = 0\n",
        "  number = len(concatenation_X)\n",
        "  for i in range(number):\n",
        "    question = concatenation_X[i]\n",
        "    answer = concatenation_y[i]\n",
        "    gpt3_output = run_gpt3(Prompt.replace(\"{input}\", question), instruction_tuned=True)\n",
        "    if gpt3_output[-2:] == answer:\n",
        "      score +=1\n",
        "\n",
        "  return score/number\n",
        "\n",
        "scores_few_shot = []\n",
        "ONE_FEW_SHOT_CONCATENATION_PROMPT = '''\n",
        "Take the last letters of the words 'Alvin Bao' and concatenate them -> no,\n",
        "{input}\n",
        "'''\n",
        "scores_few_shot.append(Score_Prompt(ONE_FEW_SHOT_CONCATENATION_PROMPT))\n",
        "\n",
        "TWO_FEW_SHOT_CONCATENATION_PROMPT = '''\n",
        "Take the last letters of the words 'Alvin Bao' and concatenate them -> no,\n",
        "Take the last letters of the words 'Otto Bot' and concatenate them -> ot,\n",
        "{input}\n",
        "'''\n",
        "scores_few_shot.append(Score_Prompt(TWO_FEW_SHOT_CONCATENATION_PROMPT))\n",
        "\n",
        "FOUR_FEW_SHOT_CONCATENATION_PROMPT = '''\n",
        "Take the last letters of the words 'Alvin Bao' and concatenate them -> no,\n",
        "Take the last letters of the words 'Otto Bot' and concatenate them -> ot,\n",
        "Take the last letters of the words 'Behrang Mohit' and concatenate them -> gt,\n",
        "Take the last letters of the words 'Jacob Emil' and concatenate them -> bl,\n",
        "{input}\n",
        "'''\n",
        "scores_few_shot.append(Score_Prompt(FOUR_FEW_SHOT_CONCATENATION_PROMPT))\n",
        "\n",
        "EIGHT_FEW_SHOT_CONCATENATION_PROMPT = '''\n",
        "Take the last letters of the words 'Alvin Bao' and concatenate them -> no,\n",
        "Take the last letters of the words 'Otto Bot' and concatenate them -> ot,\n",
        "Take the last letters of the words 'Behrang Mohit' and concatenate them -> gt,\n",
        "Take the last letters of the words 'Jacob Emil' and concatenate them -> bl,\n",
        "Take the last letters of the words 'Daniel Lee' and concatenate them -> le,\n",
        "Take the last letters of the words 'Samantha Green' and concatenate them -> an,\n",
        "Take the last letters of the words 'Alex Turner' and concatenate them -> xr,\n",
        "Take the last letters of the words 'Emily Davis' and concatenate them -> ys,\n",
        "{input}\n",
        "'''\n",
        "scores_few_shot.append(Score_Prompt(EIGHT_FEW_SHOT_CONCATENATION_PROMPT))\n",
        "\n",
        "SIXTEEN_FEW_SHOT_CONCATENATION_PROMPT = '''\n",
        "Take the last letters of the words 'Alvin Bao' and concatenate them -> no,\n",
        "Take the last letters of the words 'Otto Bot' and concatenate them -> ot,\n",
        "Take the last letters of the words 'Behrang Mohit' and concatenate them -> gt,\n",
        "Take the last letters of the words 'Jacob Emil' and concatenate them -> bl,\n",
        "Take the last letters of the words 'Daniel Lee' and concatenate them -> le,\n",
        "Take the last letters of the words 'Samantha Green' and concatenate them -> an,\n",
        "Take the last letters of the words 'Alex Turner' and concatenate them -> xr,\n",
        "Take the last letters of the words 'Emily Davis' and concatenate them -> ys,\n",
        "Take the last letters of the words 'Victor Kim' and concatenate them -> rm,\n",
        "Take the last letters of the words 'Grace Miller' and concatenate them -> er,\n",
        "Take the last letters of the words 'Marcus Ford' and concatenate them -> sd,\n",
        "Take the last letters of the words 'Natalie Chen' and concatenate them -> en,\n",
        "Take the last letters of the words 'Eva Baker' and concatenate them -> ar,\n",
        "Take the last letters of the words 'Lucas Zhang' and concatenate them -> sg,\n",
        "Take the last letters of the words 'Sophia Hall' and concatenate them -> al,\n",
        "Take the last letters of the words 'Andrew Lewis' and concatenate them -> ws,\n",
        "{input}\n",
        "'''\n",
        "scores_few_shot.append(Score_Prompt(SIXTEEN_FEW_SHOT_CONCATENATION_PROMPT))\n",
        "\n",
        "\n",
        "# chain-of-thought\n",
        "scores_cot = []\n",
        "\n",
        "ONE_COT_CONCATENATION_PROMPT = '''\n",
        "Take the last letters of the words 'Alvin Bao' and concatenate them\n",
        "the last letter of 'Alvin' is 'n' the last letter of 'Bao' is o -> no,\n",
        "{input}\n",
        "'''\n",
        "scores_cot.append(Score_Prompt(ONE_COT_CONCATENATION_PROMPT))\n",
        "\n",
        "TWO_COT_CONCATENATION_PROMPT = '''\n",
        "Take the last letters of the words 'Alvin Bao' and concatenate them\n",
        "the last letter of 'Alvin' is 'n' the last letter of 'Bao' is o -> no,\n",
        "Take the last letters of the words 'Otto Bot' and concatenate them\n",
        "the last letter of 'Otto' is 'o' the last letter of 'Bot' is t -> ot,\n",
        "{input}\n",
        "'''\n",
        "scores_cot.append(Score_Prompt(TWO_COT_CONCATENATION_PROMPT))\n",
        "\n",
        "FOUR_COT_CONCATENATION_PROMPT = '''\n",
        "Take the last letters of the words 'Alvin Bao' and concatenate them\n",
        "the last letter of 'Alvin' is 'n' the last letter of 'Bao' is o -> no,\n",
        "Take the last letters of the words 'Otto Bot' and concatenate them\n",
        "the last letter of 'Otto' is 'o' the last letter of 'Bot' is t -> ot,\n",
        "Take the last letters of the words 'Behrang Mohit' and concatenate them\n",
        "the last letter of 'Behrang' is 'g' and the last letter of 'Mohit' is 't' -> gt,\n",
        "Take the last letters of the words 'Jacob Emil' and concatenate them\n",
        "the last letter of 'Jacob' is 'b', and the last letter of 'Emil' is 'l' -> bl,\n",
        "{input}\n",
        "'''\n",
        "scores_cot.append(Score_Prompt(FOUR_COT_CONCATENATION_PROMPT))\n",
        "\n",
        "EIGHT_COT_CONCATENATION_PROMPT = '''\n",
        "Take the last letters of the words 'Alvin Bao' and concatenate them\n",
        "the last letter of 'Alvin' is 'n' the last letter of 'Bao' is o -> no,\n",
        "Take the last letters of the words 'Otto Bot' and concatenate them\n",
        "the last letter of 'Otto' is 'o' the last letter of 'Bot' is t -> ot,\n",
        "Take the last letters of the words 'Behrang Mohit' and concatenate them\n",
        "the last letter of 'Behrang' is 'g' and the last letter of 'Mohit' is 't' -> gt,\n",
        "Take the last letters of the words 'Jacob Emil' and concatenate them\n",
        "the last letter of 'Jacob' is 'b', and the last letter of 'Emil' is 'l' -> bl,\n",
        "Take the last letters of the words 'Daniel Lee' and concatenate them\n",
        "the last letter of 'Daniel' is 'l', and the last letter of 'Lee' is 'e' -> le,\n",
        "Take the last letters of the words 'Samantha Green' and concatenate them\n",
        "the last letter of 'Samantha' is 'a', and the last letter of 'Green' is 'n' -> an,\n",
        "Take the last letters of the words 'Alex Turner' and concatenate them\n",
        "the last letter of 'Alex' is 'x', and the last letter of 'Turner' is 'r' -> xr,\n",
        "Take the last letters of the words 'Emily Davis' and concatenate them\n",
        "the last letter of 'Emily' is 'y', and the last letter of 'Davis' is 's' -> ys,\n",
        "{input}\n",
        "'''\n",
        "scores_cot.append(Score_Prompt(EIGHT_COT_CONCATENATION_PROMPT))\n",
        "\n",
        "SIXTEEN_COT_CONCATENATION_PROMPT = '''\n",
        "Take the last letters of the words 'Alvin Bao' and concatenate them\n",
        "the last letter of 'Alvin' is 'n' the last letter of 'Bao' is o -> no,\n",
        "Take the last letters of the words 'Otto Bot' and concatenate them\n",
        "the last letter of 'Otto' is 'o' the last letter of 'Bot' is t -> ot,\n",
        "Take the last letters of the words 'Behrang Mohit' and concatenate them\n",
        "the last letter of 'Behrang' is 'g' and the last letter of 'Mohit' is 't' -> gt,\n",
        "Take the last letters of the words 'Jacob Emil' and concatenate them\n",
        "the last letter of 'Jacob' is 'b', and the last letter of 'Emil' is 'l' -> bl,\n",
        "Take the last letters of the words 'Daniel Lee' and concatenate them\n",
        "the last letter of 'Daniel' is 'l', and the last letter of 'Lee' is 'e' -> le,\n",
        "Take the last letters of the words 'Samantha Green' and concatenate them\n",
        "the last letter of 'Samantha' is 'a', and the last letter of 'Green' is 'n' -> an,\n",
        "Take the last letters of the words 'Alex Turner' and concatenate them\n",
        "the last letter of 'Alex' is 'x', and the last letter of 'Turner' is 'r' -> xr,\n",
        "Take the last letters of the words 'Emily Davis' and concatenate them\n",
        "the last letter of 'Emily' is 'y', and the last letter of 'Davis' is 's' -> ys,\n",
        "Take the last letters of the words 'Victor Kim' and concatenate them:\n",
        "the last letter of 'Victor' is 'r', and the last letter of 'Kim' is 'm' -> rm,\n",
        "Take the last letters of the words 'Grace Miller' and concatenate them\n",
        "the last letter of 'Grace' is 'e', and the last letter of 'Miller' is 'r' -> er,\n",
        "Take the last letters of the words 'Marcus Ford' and concatenate them\n",
        "the last letter of 'Marcus' is 's', and the last letter of 'Ford' is 'd' -> sd,\n",
        "Take the last letters of the words 'Natalie Chen' and concatenate them\n",
        "the last letter of 'Natalie' is 'e', and the last letter of 'Chen' is 'n' -> en,\n",
        "Take the last letters of the words 'Eva Baker' and concatenate them\n",
        "the last letter of 'Eva' is 'a', and the last letter of 'Baker' is 'r' -> ar,\n",
        "Take the last letters of the words 'Lucas Zhang' and concatenate them\n",
        "the last letter of 'Lucas' is 's', and the last letter of 'Zhang' is 'g' -> sg,\n",
        "Take the last letters of the words 'Sophia Hall' and concatenate them\n",
        "the last letter of 'Sophia' is 'a', and the last letter of 'Hall' is 'l' -> al,\n",
        "Take the last letters of the words 'Andrew Lewis' and concatenate them\n",
        "the last letter of 'Andrew' is 'w', and the last letter of 'Lewis' is 's' -> ws,\n",
        "{input}\n",
        "'''\n",
        "scores_cot.append(Score_Prompt(SIXTEEN_COT_CONCATENATION_PROMPT))\n",
        "\n",
        "\n",
        "import matplotlib.pyplot as plt\n",
        "\n",
        "N_examples = [1, 2, 4, 8, 16]\n",
        "\n",
        "plt.scatter(N_examples, scores_few_shot, label='Few-Shot Prompt')\n",
        "plt.scatter(N_examples, scores_cot, label='CoT Prompt')\n",
        "\n",
        "plt.xlabel('Number of Examples (N)')\n",
        "plt.ylabel('Accuracy (%)')\n",
        "plt.title('Accuracy Comparison: Few-Shot vs. CoT')\n",
        "plt.legend()\n",
        "plt.show()\n"
      ]
    },
    {
      "cell_type": "markdown",
      "metadata": {
        "id": "uD19h2AQxPgN"
      },
      "source": [
        "**Please respond to the following question in your `report.pdf`**\n",
        "\n",
        "**Problem 5.2 (EXTRA CREDIT):** Your job is to investigate whether or not COT can extend to lengths of words not seen in the chain-of-thought examples.\n",
        "\n",
        "- Step 1: Try running the original concatenation prompt on a name or phrase with 3 words e.g. 'James Earl Jones' (try running it on at least 4-5 names or phrases). Does it work?\n",
        "- Step 2: Go back and modify the prompt to get it to work\n",
        "- Step 3: Now try running this on a name or phrase with 5 words (try running it on at least 4-5 names or phrases). Does it work? If not, how would you extend the prompt to get it to work?\n",
        "\n",
        "Should you decide to do this exploration, in your report, please include what prompts you tried, at least 3 examples of names you tried the prompts on (3 word and 5 word), and an explanation of why you tried what you tried\n",
        "\n",
        "Feel free to reference [Chain-of-Thought Prompting Elicits Reasoning in Large Language Models](https://arxiv.org/pdf/2201.11903.pdf), especially section 5 on Symbolic Reasoning."
      ]
    },
    {
      "cell_type": "code",
      "execution_count": 70,
      "metadata": {
        "id": "y2lfoY_Oxa5H",
        "colab": {
          "base_uri": "https://localhost:8080/"
        },
        "outputId": "e4102e68-4421-43fc-9884-1398701f2afb"
      },
      "outputs": [
        {
          "output_type": "stream",
          "name": "stdout",
          "text": [
            "the last letter of 'Stephen' is 'n', and the last letter of 'Curry' is 'y', and the last letter of 'James' is 's' -> nys\n",
            "the last letter of 'Stephen' is 'n', the last letter of 'Curry' is 'y', the last letter of 'James' is 's', the last letter of 'Alexanderwang' is 'g', and the last letter of 'Li' is 'i' -> nysgi\n"
          ]
        }
      ],
      "source": [
        "# TODO (EXTRA CREDIT) Modify the following prompt\n",
        "MODIFIED_THREE_WORD_COT_CONCATENATION_PROMPT = '''\n",
        "Take the last letters of the words 'Alvin Bao' and concatenate them\n",
        "the last letter of 'Alvin' is 'n' the last letter of 'Bao' is o -> no,\n",
        "Take the last letters of the words 'Otto Bot' and concatenate them\n",
        "the last letter of 'Otto' is 'o' the last letter of 'Bot' is t -> ot,\n",
        "Take the last letters of the words 'Behrang Mohit' and concatenate them\n",
        "the last letter of 'Behrang' is 'g' and the last letter of 'Mohit' is 't' -> gt,\n",
        "Take the last letters of the words 'Jacob Emil' and concatenate them\n",
        "the last letter of 'Jacob' is 'b', and the last letter of 'Emil' is 'l' -> bl,\n",
        "{input}\n",
        "'''\n",
        "print(run_gpt3(MODIFIED_THREE_WORD_COT_CONCATENATION_PROMPT.replace(\"{input}\", \"Take the last letters of the words 'Stephen Curry James' and concatenate them\"), instruction_tuned=True))\n",
        "print(run_gpt3(MODIFIED_THREE_WORD_COT_CONCATENATION_PROMPT.replace(\"{input}\", \"Take the last letters of the words 'Stephen Curry James Alexanderwang Li' and concatenate them\"), instruction_tuned=True))"
      ]
    },
    {
      "cell_type": "code",
      "execution_count": 71,
      "metadata": {
        "colab": {
          "base_uri": "https://localhost:8080/"
        },
        "id": "oGtV7hBY-O8s",
        "outputId": "9f22751f-435e-41bf-d4e0-8e2a9a677dc4"
      },
      "outputs": [
        {
          "output_type": "stream",
          "name": "stdout",
          "text": [
            "Expected: nys\n",
            "Actual: the last letter of 'Stephen' is 'n', the last letter of 'Curry' is 'y', and the last letter of 'James' is 's' -> nys\n",
            "Expected: nysgi\n",
            "Actual: the last letter of 'Stephen' is 'n', the last letter of 'Curry' is 'y', the last letter of 'James' is 's', the last letter of 'Alexanderwang' is 'g', and the last letter of 'Li' is 'i' -> nysgi\n"
          ]
        }
      ],
      "source": [
        "# TODO unit tests\n",
        "run_unit_test(MODIFIED_THREE_WORD_COT_CONCATENATION_PROMPT, \"Take the last letters of the words 'Stephen Curry James' and concatenate them ->\", \"nys\", instruction_tuned=True)\n",
        "run_unit_test(MODIFIED_THREE_WORD_COT_CONCATENATION_PROMPT, \"Take the last letters of the words 'Stephen Curry James Alexanderwang Li' and concatenate them ->\", \"nysgi\", instruction_tuned=True)\n"
      ]
    },
    {
      "cell_type": "code",
      "execution_count": 4,
      "metadata": {
        "id": "03iZ8waW-NQB",
        "colab": {
          "base_uri": "https://localhost:8080/"
        },
        "outputId": "013ec477-1c53-4d30-ef5a-db9044ecc147"
      },
      "outputs": [
        {
          "output_type": "stream",
          "name": "stdout",
          "text": [
            "the last letter of 'Stephen' is 'n', the last letter of 'Curry' is 'y', the last letter of 'James' is 's', the last letter of 'Alexanderwang' is 'g', and the last letter of 'Lee' is 'e' -> nysge\n"
          ]
        }
      ],
      "source": [
        "# TODO (EXTRA CREDIT) Modify the following prompt\n",
        "MODIFIED_FIVE_WORD_COT_CONCATENATION_PROMPT = '''\n",
        "Take the last letters of the words 'Alvin' and concatenate them\n",
        "the last letter of 'Alvin' is 'n' -> n,\n",
        "Take the last letters of the words 'Otto Bot' and concatenate them\n",
        "the last letter of 'Otto' is 'o' the last letter of 'Bot' is t -> ot,\n",
        "Take the last letters of the words 'Behrang Mohit Jones' and concatenate them\n",
        "the last letter of 'Behrang' is 'g' and the last letter of 'Mohit' is 't' the last letter of 'Jones' is s -> gts,\n",
        "Take the last letters of the words 'Jacob Emil Isabe' and concatenate them\n",
        "the last letter of 'Jacob' is 'b', and the last letter of 'Emil' is 'l' the last letter of 'Isabe' is e -> ble,\n",
        "{input}\n",
        "'''\n",
        "print(run_gpt3(MODIFIED_FIVE_WORD_COT_CONCATENATION_PROMPT .replace(\"{input}\", \"Take the last letters of the words 'Stephen Curry James Alexanderwang Lee' and concatenate them ->\"), instruction_tuned=True))"
      ]
    },
    {
      "cell_type": "code",
      "execution_count": 10,
      "metadata": {
        "colab": {
          "base_uri": "https://localhost:8080/"
        },
        "id": "lGStmZW_-hiA",
        "outputId": "6ce8e4d1-b4be-4dac-9464-116dd7dcd4d2"
      },
      "outputs": [
        {
          "output_type": "stream",
          "name": "stdout",
          "text": [
            "Expected: nysge\n",
            "Actual: the last letter of 'Stephen' is 'n', the last letter of 'Curry' is 'y', the last letter of 'James' is 's', the last letter of 'Alexanderwang' is 'g', and the last letter of 'Lee' is 'e' -> nysge\n",
            "Expected: tyfsh\n",
            "Actual: the last letter of 'first' is 't', the last letter of 'Friday' is 'y', the last letter of 'of' is 'f', the last letter of 'this' is 's', the last letter of 'month' is 'h' -> tyfsh\n",
            "Expected: tdyol\n",
            "Actual: the last letter of 'Sunset' is 't', the last letter of 'painted' is 'd', the last letter of 'sky' is 'y', the last letter of 'so' is 'o', and the last letter of 'beautiful' is 'l' -> tdyol\n",
            "Expected: ouesy\n",
            "Actual: the last letter of 'Do' is 'o', the last letter of 'you' is 'u', the last letter of 'like' is 'e', the last letter of 'this' is 's', the last letter of 'story' is 'y' -> ouesy\n",
            "Expected: renvh\n",
            "Actual: the last letter of 'Oliver' is 'r', the last letter of 'Alice' is 'e', the last letter of 'Jackson' is 'n', the last letter of 'Oliv' is 'v', and the last letter of 'Noah' is 'h' -> renvh\n",
            "Expected: eakar\n",
            "Actual: the last letter of 'Olive' is 'e', the last letter of 'Sophia' is 'a', the last letter of 'Jack' is 'k', the last letter of 'Selina' is 'a', and the last letter of 'Amber' is 'r' -> eakar\n"
          ]
        }
      ],
      "source": [
        "# TODO unit tests\n",
        "run_unit_test(MODIFIED_FIVE_WORD_COT_CONCATENATION_PROMPT, \"Take the last letters of the words 'Stephen Curry James Alexanderwang Lee' and concatenate them ->\", \"nysge\", instruction_tuned=True)\n",
        "run_unit_test(MODIFIED_FIVE_WORD_COT_CONCATENATION_PROMPT, \"Take the last letters of the words 'first Friday of this month' and concatenate them ->\", \"tyfsh\", instruction_tuned=True)\n",
        "run_unit_test(MODIFIED_FIVE_WORD_COT_CONCATENATION_PROMPT, \"Take the last letters of the words 'Sunset painted sky so beautiful' and concatenate them ->\", \"tdyol\", instruction_tuned=True)\n",
        "run_unit_test(MODIFIED_FIVE_WORD_COT_CONCATENATION_PROMPT, \"Take the last letters of the words 'Do you like this story' and concatenate them ->\", \"ouesy\", instruction_tuned=True)\n",
        "run_unit_test(MODIFIED_FIVE_WORD_COT_CONCATENATION_PROMPT, \"Take the last letters of the words 'Oliver Alice Jackson Oliv Noah' and concatenate them ->\", \"renvh\", instruction_tuned=True)\n",
        "run_unit_test(MODIFIED_FIVE_WORD_COT_CONCATENATION_PROMPT, \"Take the last letters of the words 'Olive Sophia Jack Selina Amber' and concatenate them ->\", \"eakar\", instruction_tuned=True)\n"
      ]
    },
    {
      "cell_type": "markdown",
      "metadata": {
        "id": "2hoP1RcwMqNF"
      },
      "source": [
        "# Submissions"
      ]
    },
    {
      "cell_type": "markdown",
      "metadata": {
        "id": "-DfjnoJXNfCZ"
      },
      "source": [
        "## Submission Checklist (check if you missed anything!)\n",
        "We will look for the following:\n",
        "- Section 1:\n",
        "  - 1.1: Prompt, 3 unit tests, and output included in `report.pdf` and notebook\n",
        "  - 1.2: Prompt, 3 unit tests, and output included in `report.pdf` and notebook\n",
        "  - 1.3: Prompt, 3 unit tests, and output included in `report.pdf` and notebook\n",
        "  - 1.4: Prompt, 3 unit tests, and output included in `report.pdf` and notebook\n",
        "  - 1.5: Prompt, 3 unit tests, and output included in `report.pdf` and notebook\n",
        "  - 1.6: Prompt, 3 unit tests, and output included in `report.pdf` and notebook\n",
        "- Section 2:\n",
        "  - 2.1: Written response in `report.pdf` (Word Limit: 100 words)\n",
        "  - 2.2: Written response in `report.pdf` and verification of prompt, verbalizers, and number correct\n",
        "- Section 3:\n",
        "  - 3.1: Prompt, 3 unit tests, and output included in `report.pdf` and notebook\n",
        "  - 3.2: Prompt, 3 unit tests, and output included in `report.pdf` and notebook\n",
        "  - 3.3: Written response in `report.pdf`\n",
        "- Section 4:\n",
        "  - 4.1: Prompt, 3 unit tests, and output included in `report.pdf` and notebook\n",
        "  - 4.2: Prompt, 3 unit tests, and output included in `report.pdf` and notebook\n",
        "  - 4.3: Written response in `report.pdf`\n",
        "- Section 5:\n",
        "  - 5.1: Written response (table/plot, short-write up) in `report.pdf` and verification of prompt and evaluation function (examples from cell output not required)\n",
        "  - 5.2: **OPTIONAL**: Written response in `report.pdf` and verification of 2 prompts and 6 unit tests\n",
        "\n",
        "For the purpose of submission, feel free to complete the entire assignment in the notebook and then convert it into a pdf for the report. However, this is not required as long as all of the deliverables above are satisfied.\n",
        "\n",
        "**REMINDER**: Include the **expected** answer and the **response** from the OpenAI API in the cell output and `report.pdf` **for all unit tests**."
      ]
    },
    {
      "cell_type": "markdown",
      "metadata": {
        "id": "qx1oLs9-OFjE"
      },
      "source": [
        "## GradeScope File Submission\n",
        "\n",
        "**MAKE SURE TO REMOVE YOUR API KEY FROM YOUR SUBMISSION, YOU WILL LOSE POINTS IF YOUR API KEY IS PRESENT IN THE NOTEBOOK SUBMISSION**\n",
        "\n",
        "Here are the deliverables you need to submit to GradeScope:\n",
        "- Write-up (`report.pdf`):\n",
        "    - All Sections\n",
        "    - **IMPORTANT**: You will be assigning each page of the report to a question so please make sure you have the correct page(s) assigned to each question, **you will lose 10 points on this assignment if your answers are not assigned correctly**.\n",
        "- Code:\n",
        "    - This notebook: make sure it is named `HW4.ipynb` before submitting. You can download the notebook and py file by going to the top-left corner of this webpage, `File -> Download -> Download .ipynb`"
      ]
    }
  ],
  "metadata": {
    "colab": {
      "provenance": []
    },
    "kaggle": {
      "accelerator": "none",
      "dataSources": [],
      "dockerImageVersionId": 30646,
      "isGpuEnabled": false,
      "isInternetEnabled": true,
      "language": "python",
      "sourceType": "notebook"
    },
    "kernelspec": {
      "display_name": "Python 3",
      "language": "python",
      "name": "python3"
    },
    "language_info": {
      "codemirror_mode": {
        "name": "ipython",
        "version": 3
      },
      "file_extension": ".py",
      "mimetype": "text/x-python",
      "name": "python",
      "nbconvert_exporter": "python",
      "pygments_lexer": "ipython3",
      "version": "3.10.13"
    }
  },
  "nbformat": 4,
  "nbformat_minor": 0
}