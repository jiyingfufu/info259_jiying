{
  "cells": [
    {
      "cell_type": "markdown",
      "metadata": {
        "id": "V8ItuGgKMSkm"
      },
      "source": [
        "<a href=\"https://colab.research.google.com/github/ucbnlp24/hws4nlp24/blob/main/HW2/HW2.ipynb\" target=\"_parent\"><img src=\"https://colab.research.google.com/assets/colab-badge.svg\" alt=\"Open In Colab\"/></a>"
      ]
    },
    {
      "cell_type": "markdown",
      "metadata": {
        "id": "WlFS_v7TpRHe"
      },
      "source": [
        "# Homework 2: PyTorch and Self-Attention\n",
        "\n",
        "In this homework, you will begin exploring PyTorch, a neural network library that will be used throughout the remainder of the semester.  \n",
        "\n",
        "The PDF file for instructions can be found [here](https://github.com/ucbnlp24/hws4nlp24/blob/main/HW2/HW2.pdf).\n",
        "\n",
        "You can toggle the outline on the left hand side to jump around sections more easily.\n",
        "\n",
        "**Due date**: Tuesday February 13 at 11:59 PM\n"
      ]
    },
    {
      "cell_type": "markdown",
      "metadata": {
        "id": "J81qp2_Cf9OZ"
      },
      "source": [
        "## Setup"
      ]
    },
    {
      "cell_type": "code",
      "execution_count": 2,
      "metadata": {
        "id": "wyY0yl1Jpf2o"
      },
      "outputs": [],
      "source": [
        "import numpy as np\n",
        "import nltk\n",
        "import matplotlib.pyplot as plt\n",
        "import torch\n",
        "import torch.nn as nn\n",
        "import torch.optim as optim\n",
        "import torch.nn.functional as F\n",
        "import nltk\n",
        "from collections import Counter\n",
        "\n",
        "# Sets random seeds for reproducibility\n",
        "seed=159259\n",
        "np.random.seed(seed)\n",
        "torch.manual_seed(seed)\n",
        "torch.cuda.manual_seed(seed)\n",
        "torch.backends.cudnn.deterministic=True"
      ]
    },
    {
      "cell_type": "code",
      "execution_count": 3,
      "metadata": {
        "id": "s7DVjxeq_-OF",
        "colab": {
          "base_uri": "https://localhost:8080/"
        },
        "outputId": "f9dc48af-b9c1-4a51-e155-812f11c6ef4c"
      },
      "outputs": [
        {
          "output_type": "stream",
          "name": "stdout",
          "text": [
            "/usr/lib/python3.10/runpy.py:126: RuntimeWarning: 'nltk.downloader' found in sys.modules after import of package 'nltk', but prior to execution of 'nltk.downloader'; this may result in unpredictable behaviour\n",
            "  warn(RuntimeWarning(msg))\n",
            "[nltk_data] Downloading package punkt to /root/nltk_data...\n",
            "[nltk_data]   Unzipping tokenizers/punkt.zip.\n"
          ]
        }
      ],
      "source": [
        "!python -m nltk.downloader punkt"
      ]
    },
    {
      "cell_type": "markdown",
      "metadata": {
        "id": "jlYfHZwlQXA_"
      },
      "source": [
        "When looking up pytorch documentation, it may be useful to know which version of torch you are running.\n"
      ]
    },
    {
      "cell_type": "code",
      "execution_count": 4,
      "metadata": {
        "id": "qUdEHON5lybF",
        "colab": {
          "base_uri": "https://localhost:8080/"
        },
        "outputId": "c57a0932-7872-4a3e-b956-f384c129a657"
      },
      "outputs": [
        {
          "output_type": "stream",
          "name": "stdout",
          "text": [
            "2.1.0+cu121\n"
          ]
        }
      ],
      "source": [
        "print(torch.__version__)"
      ]
    },
    {
      "cell_type": "markdown",
      "metadata": {
        "id": "8xrbyc1flKp_"
      },
      "source": [
        "## **IMPORTANT**: GPU is not enabled by default\n",
        "\n",
        "You must switch runtime environments if your output of the next block of code has an error saying \"ValueError: Expected a cuda device, but got: cpu\"\n",
        "\n",
        "Go to Runtime > Change runtime type > Hardware accelerator > GPU"
      ]
    },
    {
      "cell_type": "code",
      "execution_count": 5,
      "metadata": {
        "id": "mRy4VWrvkCP6",
        "colab": {
          "base_uri": "https://localhost:8080/"
        },
        "outputId": "7cf01f34-0581-484f-99e9-082841db2663"
      },
      "outputs": [
        {
          "output_type": "stream",
          "name": "stdout",
          "text": [
            "Running on cpu\n"
          ]
        }
      ],
      "source": [
        "device=\"cuda\" if torch.cuda.is_available() else \"cpu\"\n",
        "print(\"Running on {}\".format(device))"
      ]
    },
    {
      "cell_type": "markdown",
      "metadata": {
        "id": "GmhyEWPVCrNi"
      },
      "source": [
        "## Deliverable 1: PyTorch and FFNN"
      ]
    },
    {
      "cell_type": "markdown",
      "metadata": {
        "id": "XyARzkPKmUlR"
      },
      "source": [
        "### Data Processing\n",
        "\n",
        "Let's begin by loading our datasets and the 50-dimensional GLoVE word embeddings.  "
      ]
    },
    {
      "cell_type": "code",
      "execution_count": 6,
      "metadata": {
        "id": "l_ZZQsGwH5vj",
        "colab": {
          "base_uri": "https://localhost:8080/"
        },
        "outputId": "9b961d17-e8b4-40e8-c778-b4feb61f0fbe"
      },
      "outputs": [
        {
          "output_type": "stream",
          "name": "stdout",
          "text": [
            "--2024-02-13 20:21:49--  https://raw.githubusercontent.com/ucbnlp24/hws4nlp24/main/HW2/train.txt\n",
            "Resolving raw.githubusercontent.com (raw.githubusercontent.com)... 185.199.108.133, 185.199.109.133, 185.199.110.133, ...\n",
            "Connecting to raw.githubusercontent.com (raw.githubusercontent.com)|185.199.108.133|:443... connected.\n",
            "HTTP request sent, awaiting response... 200 OK\n",
            "Length: 6645801 (6.3M) [text/plain]\n",
            "Saving to: ‘train.txt’\n",
            "\n",
            "train.txt           100%[===================>]   6.34M  --.-KB/s    in 0.08s   \n",
            "\n",
            "2024-02-13 20:21:49 (77.9 MB/s) - ‘train.txt’ saved [6645801/6645801]\n",
            "\n",
            "--2024-02-13 20:21:49--  https://raw.githubusercontent.com/ucbnlp24/hws4nlp24/main/HW2/dev.txt\n",
            "Resolving raw.githubusercontent.com (raw.githubusercontent.com)... 185.199.108.133, 185.199.109.133, 185.199.110.133, ...\n",
            "Connecting to raw.githubusercontent.com (raw.githubusercontent.com)|185.199.108.133|:443... connected.\n",
            "HTTP request sent, awaiting response... 200 OK\n",
            "Length: 1309909 (1.2M) [text/plain]\n",
            "Saving to: ‘dev.txt’\n",
            "\n",
            "dev.txt             100%[===================>]   1.25M  --.-KB/s    in 0.06s   \n",
            "\n",
            "2024-02-13 20:21:49 (22.7 MB/s) - ‘dev.txt’ saved [1309909/1309909]\n",
            "\n",
            "--2024-02-13 20:21:49--  https://raw.githubusercontent.com/ucbnlp24/hws4nlp24/main/HW2/glove.6B.50d.50K.txt\n",
            "Resolving raw.githubusercontent.com (raw.githubusercontent.com)... 185.199.108.133, 185.199.109.133, 185.199.110.133, ...\n",
            "Connecting to raw.githubusercontent.com (raw.githubusercontent.com)|185.199.108.133|:443... connected.\n",
            "HTTP request sent, awaiting response... 200 OK\n",
            "Length: 21357789 (20M) [text/plain]\n",
            "Saving to: ‘glove.6B.50d.50K.txt’\n",
            "\n",
            "glove.6B.50d.50K.tx 100%[===================>]  20.37M  --.-KB/s    in 0.1s    \n",
            "\n",
            "2024-02-13 20:21:49 (149 MB/s) - ‘glove.6B.50d.50K.txt’ saved [21357789/21357789]\n",
            "\n"
          ]
        }
      ],
      "source": [
        "!wget https://raw.githubusercontent.com/ucbnlp24/hws4nlp24/main/HW2/train.txt\n",
        "!wget https://raw.githubusercontent.com/ucbnlp24/hws4nlp24/main/HW2/dev.txt\n",
        "!wget https://raw.githubusercontent.com/ucbnlp24/hws4nlp24/main/HW2/glove.6B.50d.50K.txt"
      ]
    },
    {
      "cell_type": "code",
      "execution_count": 7,
      "metadata": {
        "id": "vC5tWWn2mWhH"
      },
      "outputs": [],
      "source": [
        "training_file, dev_file=\"train.txt\", \"dev.txt\""
      ]
    },
    {
      "cell_type": "code",
      "execution_count": 8,
      "metadata": {
        "id": "q_vLcPzzIxDw"
      },
      "outputs": [],
      "source": [
        "labels={'pos': 0, 'neg': 1}"
      ]
    },
    {
      "cell_type": "code",
      "execution_count": 9,
      "metadata": {
        "id": "sNb4H1auI4lA"
      },
      "outputs": [],
      "source": [
        "def read_embeddings(filename, vocab_size=50000):\n",
        "    \"\"\"\n",
        "    Utility function, loads in the `vocab_size` most common embeddings from `filename`\n",
        "\n",
        "    Arguments:\n",
        "    - filename:     path to file\n",
        "                    automatically infers correct embedding dimension from filename\n",
        "    - vocab_size:   maximum number of embeddings to load\n",
        "\n",
        "    Returns\n",
        "    - embeddings:   torch.FloatTensor matrix of size (vocab_size x word_embedding_dim)\n",
        "    - vocab:        dictionary mapping word (str) to index (int) in embedding matrix\n",
        "    \"\"\"\n",
        "\n",
        "    # get the embedding size from the first embedding\n",
        "    with open(filename, encoding=\"utf-8\") as file:\n",
        "        word_embedding_dim=len(file.readline().split(\" \")) - 1\n",
        "\n",
        "    vocab={}\n",
        "\n",
        "    embeddings=np.zeros((vocab_size, word_embedding_dim))\n",
        "    with open(filename, encoding=\"utf-8\") as file:\n",
        "        for idx, line in enumerate(file):\n",
        "            if idx + 2 >= vocab_size:\n",
        "                break\n",
        "            cols=line.rstrip().split(\" \")\n",
        "            val=np.array(cols[1:])\n",
        "            word=cols[0]\n",
        "            embeddings[idx + 2]=val\n",
        "            vocab[word]=idx + 2\n",
        "\n",
        "    # a FloatTensor is a multidimensional matrix\n",
        "    # that contains 32-bit floats in every entry\n",
        "    # https://pytorch.org/docs/stable/tensors.html\n",
        "    return torch.FloatTensor(embeddings), vocab\n",
        "\n",
        "def get_batches(x, y, xType, batch_size=12):\n",
        "    batches_x=[]\n",
        "    batches_y=[]\n",
        "    for i in range(0, len(x), batch_size):\n",
        "        batches_x.append(xType(x[i:i+batch_size]))\n",
        "        batches_y.append(torch.LongTensor(y[i:i+batch_size]))\n",
        "    return batches_x, batches_y"
      ]
    },
    {
      "cell_type": "markdown",
      "metadata": {
        "id": "PrBHMiLPIOKB"
      },
      "source": [
        "### Demo: Logistic regression\n",
        "\n",
        "First, let's code up Logistic Regression in PyTorch so you can see how the general framework works."
      ]
    },
    {
      "cell_type": "markdown",
      "metadata": {
        "id": "sgaDKtOrc10l"
      },
      "source": [
        "#### Average Embedding Representation\n",
        "Let's train a logistic regression classifier where the input is the average GloVe embedding for all words in a review."
      ]
    },
    {
      "cell_type": "code",
      "execution_count": 10,
      "metadata": {
        "id": "0YgU4027luO3"
      },
      "outputs": [],
      "source": [
        "def read_avg_glove_embeddings(filename, vocab, embs, labels):\n",
        "    \"\"\"\n",
        "    Utility function, loads in texts `filename` and looks up the static embeddings\n",
        "\n",
        "    Arguments:\n",
        "    - filename:     path to file\n",
        "    - vocab:        vocab file of e.g. GloVe\n",
        "\n",
        "    Returns\n",
        "    - embeddings:   torch.FloatTensor matrix of size (vocab_size x word_embedding_dim)\n",
        "    - vocab:        dictionary mapping word (str) to index (int) in embedding matrix\n",
        "    \"\"\"\n",
        "    data, data_labels=[], []\n",
        "    with open(filename) as file:\n",
        "        for line in file:\n",
        "            avg_emb=np.zeros(50)\n",
        "            cols=line.rstrip().split(\"\\t\")\n",
        "            idd=cols[0]\n",
        "            label=cols[1]\n",
        "            review=cols[2]\n",
        "            words=nltk.word_tokenize(review)\n",
        "            avg_counter=0.\n",
        "            for word in words:\n",
        "                word=word.lower()\n",
        "                if word in vocab:\n",
        "                    avg_emb += embs[vocab[word]].numpy()\n",
        "                    avg_counter += 1.\n",
        "            avg_emb /= avg_counter\n",
        "            data.append(avg_emb)\n",
        "            data_labels.append(labels[label])\n",
        "    return data, data_labels\n"
      ]
    },
    {
      "cell_type": "code",
      "execution_count": 11,
      "metadata": {
        "id": "JYb1iVsqb0Le"
      },
      "outputs": [],
      "source": [
        "embs, glove_vocab=read_embeddings(\"glove.6B.50d.50K.txt\")\n",
        "avg_train_x, avg_train_y=read_avg_glove_embeddings(training_file, glove_vocab, embs, labels)\n",
        "avg_dev_x, avg_dev_y=read_avg_glove_embeddings(dev_file, glove_vocab, embs, labels)"
      ]
    },
    {
      "cell_type": "code",
      "execution_count": 12,
      "metadata": {
        "id": "-FeYYf7-c01Z",
        "colab": {
          "base_uri": "https://localhost:8080/"
        },
        "outputId": "1e1d12f7-7395-433e-fbc0-931240fb510a"
      },
      "outputs": [
        {
          "output_type": "stream",
          "name": "stderr",
          "text": [
            "<ipython-input-9-e6860830011a>:41: UserWarning: Creating a tensor from a list of numpy.ndarrays is extremely slow. Please consider converting the list to a single numpy.ndarray with numpy.array() before converting to a tensor. (Triggered internally at ../torch/csrc/utils/tensor_new.cpp:261.)\n",
            "  batches_x.append(xType(x[i:i+batch_size]))\n"
          ]
        }
      ],
      "source": [
        "# ignore \"UserWarning: Creating a tensor from a list of numpy.ndarrays is extremely slow.\"\n",
        "# We avoid Dataset etc. objects to simplify the code -- make sure you can understand what each of those lines does!\n",
        "avg_trainX, avg_trainY=get_batches(avg_train_x, avg_train_y, xType=torch.FloatTensor)\n",
        "avg_devX, avg_devY=get_batches(avg_dev_x, avg_dev_y, xType=torch.FloatTensor)"
      ]
    },
    {
      "cell_type": "markdown",
      "metadata": {
        "id": "Fmqx6zFolx_L"
      },
      "source": [
        "### Question 1: PyTorch and embeddings (writeup)\n",
        "\n",
        "Here, you can see that a PyTorch implementation of logistic regression is offered for your reference.\n",
        "Study this script carefully: start with how we load and access the GloVe embeddings, and the most critical ingredients of a neural net in PyTorch include a class that defines the architecture (pay attention to the `forward` method), an optimizer (`torch.optim.Adam`), and a loss function, `torch.nn.CrossEntropyLoss()`, which combines the $\\mathrm{softmax}$ function `torch.nn.LogSoftmax()` and negative log-likelihood `torch.nn.NLLLoss()` (see [documentation](https://pytorch.org/docs/stable/generated/torch.nn.CrossEntropyLoss.html)).\n",
        "\n",
        "**A notable difference from HW1 here is that the input of this model is the average of GloVe embeddings for all words in a movie review.\n",
        "What is the difference between averaged embeddings and BoW? What are the advantages or disadvantages of each?\n",
        "Discuss in no more than 50 words.**"
      ]
    },
    {
      "cell_type": "code",
      "execution_count": 13,
      "metadata": {
        "id": "392D8YLfI_K3"
      },
      "outputs": [],
      "source": [
        "# Models are usually implemented as classes in PyTorch; you need to pass nn.Module to inherit the base class\n",
        "class LogisticRegressionClassifier(nn.Module):\n",
        "    def __init__(self, input_dim, output_dim):\n",
        "        # __init__ is what gets called when you instantiate the class\n",
        "        # and here you need to pass the arguments `input_dim` and `outpt_dim` when you do.\n",
        "        # As you can see in the next cell, a model instance is instantiated with\n",
        "        #     logreg=LogisticRegressionClassifier(input_dim, output_dim)\n",
        "        # and we pass the length of reviews -- avg_trainX[0].shape[1]\n",
        "        # and the size of labels -- len(labels) as arguments.\n",
        "        super().__init__()\n",
        "        # this is how you define a linear layer --\n",
        "        # remember to add \"self\" if you want the variable to be visible to the whole model\n",
        "        # (which we do)\n",
        "        self.linear=torch.nn.Linear(input_dim, output_dim)\n",
        "    def forward(self, input):\n",
        "        # The forward() method defines how your input tensors are processed.\n",
        "        # Don't change the name!\n",
        "        # It's conventional to name it forward (useful distinction from backward passes), and\n",
        "        # in fact you can omit the .forward call and just say\n",
        "        #    logreg(x)\n",
        "        # as opposed to\n",
        "        #    logreg.forward(x)\n",
        "        h=self.linear(input)\n",
        "        return h\n",
        "    def evaluate(self, x, y):\n",
        "        # we use this method to evaluate model performance on dev sets\n",
        "        # if this all seems overwhelming, just focus on the first two methods for now.\n",
        "        # The important bits are self.eval() and no_grad(), which freeze the parameters\n",
        "        # so they won't keep updating during the evaluation process.\n",
        "        # (We don't want to cheat so should update the parameters only during training.)\n",
        "        self.eval()\n",
        "        corr=0.\n",
        "        total=0.\n",
        "        with torch.no_grad():\n",
        "            for x, y in zip(x, y):\n",
        "                x, y=x.to(device), y.to(device)\n",
        "                y_preds=self.forward(x)\n",
        "                for idx, y_pred in enumerate(y_preds):\n",
        "                    prediction=torch.argmax(y_pred)\n",
        "                    if prediction == y[idx]:\n",
        "                        corr += 1.\n",
        "                    total += 1\n",
        "        return corr/total"
      ]
    },
    {
      "cell_type": "markdown",
      "metadata": {
        "id": "76zFy8aqbtil"
      },
      "source": [
        "A complete training loop is here for your reference. There's nothing for you to implement here but you might want to make sure you understand the standard procedure. Remember that you **do not** have to finish training; none of your answers will depend on the model accuracy."
      ]
    },
    {
      "cell_type": "code",
      "execution_count": 14,
      "metadata": {
        "id": "Duzn0vCrdR5X",
        "colab": {
          "base_uri": "https://localhost:8080/"
        },
        "outputId": "a3d1b1e9-192d-4145-87ae-345b5d69690f"
      },
      "outputs": [
        {
          "output_type": "stream",
          "name": "stdout",
          "text": [
            "Epoch 0, dev accuracy: 0.648\n",
            "Epoch 5, dev accuracy: 0.681\n",
            "Epoch 10, dev accuracy: 0.698\n",
            "Epoch 15, dev accuracy: 0.720\n",
            "Epoch 20, dev accuracy: 0.726\n",
            "Epoch 25, dev accuracy: 0.732\n",
            "Epoch 30, dev accuracy: 0.736\n",
            "Epoch 35, dev accuracy: 0.739\n",
            "Epoch 40, dev accuracy: 0.740\n",
            "Epoch 45, dev accuracy: 0.738\n",
            "Stopping training; no improvement on dev data after 10 epochs\n"
          ]
        }
      ],
      "source": [
        "logreg=LogisticRegressionClassifier(avg_trainX[0].shape[1], len(labels)).to(device)\n",
        "optimizer=torch.optim.Adam(logreg.parameters(), lr=0.001, weight_decay=1e-5)\n",
        "cross_entropy=nn.CrossEntropyLoss()\n",
        "losses=[]\n",
        "\n",
        "num_labels=len(labels)\n",
        "\n",
        "patience=10\n",
        "max_dev_accuracy=0\n",
        "patience_counter=0\n",
        "\n",
        "for epoch in range(200):\n",
        "    logreg.train()\n",
        "\n",
        "    for x, y in zip(avg_trainX, avg_trainY):\n",
        "        x, y = x.to(device), y.to(device)\n",
        "        y_pred=logreg.forward(x)\n",
        "        loss=cross_entropy(y_pred.view(-1, num_labels), y.view(-1))\n",
        "        losses.append(loss.item())\n",
        "        optimizer.zero_grad()\n",
        "        loss.backward()\n",
        "        optimizer.step()\n",
        "\n",
        "    dev_accuracy=logreg.evaluate(avg_devX, avg_devY)\n",
        "\n",
        "    # check if the dev accuracy is the best seen so far\n",
        "    if dev_accuracy > max_dev_accuracy:\n",
        "        max_dev_accuracy=dev_accuracy\n",
        "        patience_counter=0\n",
        "\n",
        "    patience_counter+=1\n",
        "\n",
        "    if epoch % 5 == 0:\n",
        "        print(\"Epoch %s, dev accuracy: %.3f\" % (epoch, dev_accuracy))\n",
        "    if patience_counter >= patience:\n",
        "        print(\"Stopping training; no improvement on dev data after %s epochs\" % patience)\n",
        "        break"
      ]
    },
    {
      "cell_type": "markdown",
      "metadata": {
        "id": "cn3r2ZqxNjFN"
      },
      "source": [
        "### Question 2: FFNN (TODO)"
      ]
    },
    {
      "cell_type": "markdown",
      "metadata": {
        "id": "pNUg5NYrm8K0"
      },
      "source": [
        "For this question, we want to add a hidden layer to the logistic regression classifier above. Implement Eqn. (7.13) in J&M SLP3 and let the non-linearity $g$ be $\\mathrm{tanh}$. Your implementation should be similar to the `LogisticRegressionClassifier` above. Let's pick $20$ for the size of the hidden layer -- this is provided in the `__init__()` function below (`hidden_dim=20`), so you don't need to worry about it.\n",
        "\n",
        "Note that in the J&M terminology, a \"two-layer\" network has one hidden layer, which is what you will be implementing. You should fill in the parts between \"`#BEGIN SOLUTION`\" and \"`#END SOLUTION`\""
      ]
    },
    {
      "cell_type": "code",
      "execution_count": 15,
      "metadata": {
        "id": "Qk0-ptdEYPsH"
      },
      "outputs": [],
      "source": [
        "class FFNN(nn.Module):\n",
        "    # BEGIN SOLUTION\n",
        "    def __init__(self, input_dim, output_dim):\n",
        "        super().__init__()\n",
        "        hidden_dim=20\n",
        "\n",
        "        # complete the two lines below\n",
        "        self.linear = torch.nn.Linear(input_dim, hidden_dim)\n",
        "        self.fc = torch.nn.Linear(hidden_dim, output_dim)\n",
        "        self.tanh = torch.nn.Tanh()\n",
        "\n",
        "    def forward(self, input):\n",
        "      hidden_output = self.tanh(self.linear(input))\n",
        "      output = self.fc(hidden_output)\n",
        "\n",
        "      return output\n",
        "    # END SOLUTION\n",
        "\n",
        "    def evaluate(self, x, y):\n",
        "        self.eval()\n",
        "        corr=0.\n",
        "        total=0.\n",
        "        with torch.no_grad():\n",
        "            for x, y in zip(x, y):\n",
        "                x, y=x.to(device), y.to(device)\n",
        "                y_preds=self.forward(x)\n",
        "                for idx, y_pred in enumerate(y_preds):\n",
        "                    prediction=torch.argmax(y_pred)\n",
        "                    if prediction == y[idx]:\n",
        "                        corr += 1.\n",
        "                    total += 1\n",
        "        return corr/total"
      ]
    },
    {
      "cell_type": "code",
      "execution_count": 16,
      "metadata": {
        "id": "_sK7bP2wR96j",
        "colab": {
          "base_uri": "https://localhost:8080/"
        },
        "outputId": "1a3e2328-2f1a-4862-f621-ff85d0b5394f"
      },
      "outputs": [
        {
          "output_type": "stream",
          "name": "stdout",
          "text": [
            "Epoch 0, dev accuracy: 0.660\n",
            "Epoch 5, dev accuracy: 0.739\n",
            "Epoch 10, dev accuracy: 0.738\n",
            "Epoch 15, dev accuracy: 0.739\n",
            "Epoch 20, dev accuracy: 0.743\n",
            "Epoch 25, dev accuracy: 0.745\n",
            "Epoch 30, dev accuracy: 0.747\n",
            "Epoch 35, dev accuracy: 0.747\n",
            "Epoch 40, dev accuracy: 0.746\n",
            "Epoch 45, dev accuracy: 0.746\n",
            "Epoch 50, dev accuracy: 0.748\n",
            "Epoch 55, dev accuracy: 0.748\n",
            "Epoch 60, dev accuracy: 0.748\n",
            "Epoch 65, dev accuracy: 0.750\n",
            "Epoch 70, dev accuracy: 0.750\n",
            "Epoch 75, dev accuracy: 0.751\n",
            "Epoch 80, dev accuracy: 0.752\n",
            "Epoch 85, dev accuracy: 0.751\n",
            "Epoch 90, dev accuracy: 0.751\n",
            "Epoch 95, dev accuracy: 0.751\n",
            "Epoch 100, dev accuracy: 0.751\n",
            "Epoch 105, dev accuracy: 0.751\n",
            "Stopping training; no improvement on dev data after 30 epochs\n"
          ]
        }
      ],
      "source": [
        "ffnn_classifier=FFNN(avg_trainX[0].shape[1], len(labels)).to(device)\n",
        "optimizer=torch.optim.Adam(ffnn_classifier.parameters(), lr=0.001, weight_decay=0)\n",
        "cross_entropy=nn.CrossEntropyLoss()\n",
        "losses=[]\n",
        "\n",
        "num_labels=len(labels)\n",
        "\n",
        "patience=30\n",
        "max_dev_accuracy=0\n",
        "patience_counter=0\n",
        "\n",
        "for epoch in range(200):\n",
        "    ffnn_classifier.train()\n",
        "\n",
        "    for x, y in zip(avg_trainX, avg_trainY):\n",
        "        x, y = x.to(device), y.to(device)\n",
        "        y_pred=ffnn_classifier.forward(x)\n",
        "        loss=cross_entropy(y_pred.view(-1, num_labels), y.view(-1))\n",
        "        losses.append(loss.item())\n",
        "        optimizer.zero_grad()\n",
        "        loss.backward()\n",
        "        optimizer.step()\n",
        "\n",
        "    dev_accuracy=ffnn_classifier.evaluate(avg_devX, avg_devY)\n",
        "\n",
        "    # check if the dev accuracy is the best seen so far\n",
        "    if dev_accuracy > max_dev_accuracy:\n",
        "        max_dev_accuracy=dev_accuracy\n",
        "        patience_counter=0\n",
        "\n",
        "    patience_counter+=1\n",
        "\n",
        "    if epoch % 5 == 0:\n",
        "        print(\"Epoch %s, dev accuracy: %.3f\" % (epoch, dev_accuracy))\n",
        "    if patience_counter >= patience:\n",
        "        print(\"Stopping training; no improvement on dev data after %s epochs\" % patience)\n",
        "        break"
      ]
    },
    {
      "cell_type": "markdown",
      "metadata": {
        "id": "IYz8NO-4O49b"
      },
      "source": [
        "## Deliverable 2: Attention"
      ]
    },
    {
      "cell_type": "markdown",
      "metadata": {
        "id": "8EHx_Vkfn39v"
      },
      "source": [
        "The self-attention mechanism is often thought of as one of the most transformative ideas in modern NLP.\n",
        "Its full form in Transformer, as introduced in \"Attention is All You Need\" (NIPS 2017) is rather involved.\n",
        "This deliverable aims to prepare you for it.\n",
        "\n",
        "We will start with the simplest form of self-attention: scaled dot-product self-attention. The goal is to try to understand the roles that query, key, and value vectors play in attending to the input sequence:\n",
        "conceptually, what do they aim to achieve and improve on? How do you code this in Python?\n"
      ]
    },
    {
      "cell_type": "markdown",
      "metadata": {
        "id": "ySzttdlioFrD"
      },
      "source": [
        "### Question 3: The Concept of Self-attention and Multi-head attention (writeup only)?\n",
        "\n",
        "#### Question 3.1\n",
        "To review the concept of self-attention and multi-head attention read section $\\S$10.1 of [Chapter 10](https://web.stanford.edu/~jurafsky/slp3/10.pdf) in SLP 3. This will be pages 2-8 in the pdf linked. After reading these sections, answer the questions below. In Question 4 you will implement self-attention and in Question 5 you will implement multi-head attention as part of a model.\n",
        "\n",
        "> Why is the self-attention mechanism useful in NLP? What are the drawbacks of not using self-attention? Name one similarity and difference between self-attention and multi-head attention.\n",
        "\n",
        "**Respond in no more than 100 words. Points will be taken off for exccessively long answers.**\n",
        "\n",
        "#### Question 3.2\n",
        "Fill in the blanks below based on your understanding of section \"10.1.2 Multihead Attention\".\n",
        "\n",
        "\n",
        "> Each head in a self-attention layer is provided with its own set of ____ , ____ and __ matrices: $W^Q$, $W^K$ and $W^V$.\n",
        "\n",
        "\n"
      ]
    },
    {
      "cell_type": "markdown",
      "metadata": {
        "id": "C7_z2cr8pThO"
      },
      "source": [
        "### Intuition of attention"
      ]
    },
    {
      "cell_type": "markdown",
      "metadata": {
        "id": "qzu3s-xilmwO"
      },
      "source": [
        "First, let's go through the basics of implementing the steps in attention outside of any model.  We'll do that in Numpy.  Using the example from lecture, let's assume we have three sets of parameters $W^Q$, $W^K$ and $W^V$."
      ]
    },
    {
      "cell_type": "code",
      "execution_count": 17,
      "metadata": {
        "id": "CEFF55BQla6d",
        "colab": {
          "base_uri": "https://localhost:8080/"
        },
        "outputId": "8bd4fa96-10df-41d3-d572-47e1233fbbec"
      },
      "outputs": [
        {
          "output_type": "stream",
          "name": "stdout",
          "text": [
            "(2, 37) (2, 37) (2, 2)\n"
          ]
        }
      ],
      "source": [
        "query_key_size=37\n",
        "input_embedding_size=2\n",
        "\n",
        "Wq=np.random.rand(input_embedding_size, query_key_size)\n",
        "Wk=np.random.rand(input_embedding_size, query_key_size)\n",
        "Wv=np.random.rand(input_embedding_size, input_embedding_size)\n",
        "\n",
        "print(Wq.shape, Wk.shape, Wv.shape)"
      ]
    },
    {
      "cell_type": "markdown",
      "metadata": {
        "id": "DlPgkm1Tn-H6"
      },
      "source": [
        "Let's also assume we have an input sentence that's 5 tokens long; each token is represented as an embedding of length `input_embedding_size` (here, $2$).  That 5-word sentence, then, is represented as as $5 \\times 2$ matrix `sent`.  If we multiply `sent` by $W^Q$, the result is a $5 \\times 37$ query matrix."
      ]
    },
    {
      "cell_type": "code",
      "execution_count": 18,
      "metadata": {
        "id": "yXFA1SJKmI_w",
        "colab": {
          "base_uri": "https://localhost:8080/"
        },
        "outputId": "1bff4fa2-ff44-4675-9f2d-835b4682095b"
      },
      "outputs": [
        {
          "output_type": "stream",
          "name": "stdout",
          "text": [
            "(5, 2) (5, 37)\n"
          ]
        }
      ],
      "source": [
        "sent=np.random.rand(5, input_embedding_size)\n",
        "key=sent @ Wq\n",
        "\n",
        "print(sent.shape, key.shape)"
      ]
    },
    {
      "cell_type": "markdown",
      "metadata": {
        "id": "4nZeiywDojyk"
      },
      "source": [
        "Now let's also show how to perform the softmax operation on a matrix.  Remember that the softmax function normalizes over a set of values $x = [x_1, \\ldots, x_n]$ such that each  $0 \\le x_i \\le 1$  and the sum of $x$ = 1.  Here, we have a $15 \\times 5$ matrix $m$; if we perform the softmax over the columns of $m$ (`axis=1`), each row will sum to 1."
      ]
    },
    {
      "cell_type": "code",
      "execution_count": 19,
      "metadata": {
        "id": "-wezc38AmUQa",
        "colab": {
          "base_uri": "https://localhost:8080/"
        },
        "outputId": "23367e38-69f9-49e9-ed4a-467efc4705cc"
      },
      "outputs": [
        {
          "output_type": "stream",
          "name": "stdout",
          "text": [
            "**test_mamtrix**:\n",
            " [[0.75774054 0.91338009 0.99072117 0.26826807 0.31164955]\n",
            " [0.33288311 0.42120983 0.05332367 0.16573012 0.51192462]\n",
            " [0.02335728 0.28358279 0.87086216 0.22090578 0.41425459]\n",
            " [0.86413902 0.76811262 0.90006266 0.92857764 0.28078358]\n",
            " [0.93520885 0.51576825 0.26307401 0.87664501 0.60407663]\n",
            " [0.83903823 0.69834238 0.20700324 0.64181215 0.02235181]\n",
            " [0.53858011 0.97359089 0.48307387 0.78948512 0.42429879]\n",
            " [0.66500141 0.49681891 0.72247324 0.8052079  0.80317731]\n",
            " [0.23855963 0.0719058  0.19500952 0.02513395 0.33610596]\n",
            " [0.02146212 0.65027808 0.66900392 0.19329391 0.86623538]\n",
            " [0.12226466 0.90744404 0.97562323 0.00403214 0.61080923]\n",
            " [0.66488425 0.97121517 0.5878534  0.51773558 0.6343146 ]\n",
            " [0.61459832 0.73519934 0.85536737 0.00159646 0.97568087]\n",
            " [0.22364085 0.8430418  0.64856203 0.13774442 0.51443435]\n",
            " [0.62133009 0.18523791 0.61370943 0.00969719 0.280754  ]]\n",
            "---------------------------------------------------------\n",
            "**output**:\n",
            " [[0.21350016 0.24945465 0.26951343 0.13086485 0.1366669 ]\n",
            " [0.20447379 0.22335592 0.15460607 0.17299917 0.24456505]\n",
            " [0.13646739 0.17702858 0.31848984 0.16627353 0.20174066]\n",
            " [0.21883755 0.19880079 0.22684191 0.2334034  0.12211635]\n",
            " [0.26114706 0.17168186 0.13334621 0.2462925  0.18753237]\n",
            " [0.27298827 0.23715952 0.14509574 0.22412473 0.12063174]\n",
            " [0.17642345 0.27257065 0.16689766 0.2267373  0.15737095]\n",
            " [0.19219519 0.16244329 0.20356458 0.22112275 0.22067419]\n",
            " [0.21212723 0.17956413 0.20308734 0.17135897 0.23386233]\n",
            " [0.12046517 0.22591902 0.2301894  0.14304975 0.28037666]\n",
            " [0.12408873 0.27210179 0.29130051 0.11025152 0.20225745]\n",
            " [0.19541358 0.26545602 0.18092587 0.16867429 0.18953024]\n",
            " [0.1859771  0.20981466 0.23660512 0.10074793 0.26685518]\n",
            " [0.15054658 0.27968767 0.23025646 0.13815498 0.2013543 ]\n",
            " [0.25688509 0.16609114 0.25493489 0.139351   0.18273788]]\n",
            "---------------------------------------------------------\n",
            "**sum of each row**:\n",
            "[1. 1. 1. 1. 1. 1. 1. 1. 1. 1. 1. 1. 1. 1. 1.]\n"
          ]
        }
      ],
      "source": [
        "from scipy.special import softmax\n",
        "\n",
        "test_mamtrix=np.random.rand(15,5)\n",
        "print(f\"**test_mamtrix**:\\n {test_mamtrix}\")\n",
        "\n",
        "print('---------------------------------------------------------')\n",
        "\n",
        "# for a 2D matrix, axis=1 normalizes across the *columns*\n",
        "output=softmax(test_mamtrix, axis=1)\n",
        "print(f\"**output**:\\n {output}\")\n",
        "\n",
        "print('---------------------------------------------------------')\n",
        "# If we sum along the columns, each row should sum to 1\n",
        "print(f\"**sum of each row**:\")\n",
        "print(np.sum(output, axis=1))\n"
      ]
    },
    {
      "cell_type": "markdown",
      "metadata": {
        "id": "ses_tWyuroZk"
      },
      "source": [
        "### Question 4: Scaled dot product attention in Numpy (TODO)"
      ]
    },
    {
      "cell_type": "markdown",
      "metadata": {
        "id": "dFmdQzqfpNYP"
      },
      "source": [
        "(TODO).  From all of this, you have the building blocks for implementing attention (outside of any model).  Do so here by filling out the attention function below.  Recall from lecture that attention given a query vector $Q$, key vector $K$ and value vector $V$ is given by the following equation:\n",
        "\n",
        "$$\\mathrm{Attention}({Q}, {K}, {V}) = \\mathrm{softmax}\\left(\\frac{{Q}{K}^\\top}{\\sqrt{d_k}}\\right){V}$$\n",
        "\n",
        "You will calculate ${Q}$, ${K}$, ${V}$ within the body of this function. The sole required argument to this function should be a 2D matrix $\\in \\mathbb{R}^{n~\\times~ \\textrm{input_embedding_size}}$ for any arbitrary $n$ (that is, corresponding to a sentence of arbitrary length).  It should return a matrix of that same exact size that is the output of that attention process over the input, given the parameters specified below. $d_k$ here is the size of the key vector (`query_key_size=37`)."
      ]
    },
    {
      "cell_type": "code",
      "execution_count": 20,
      "metadata": {
        "id": "KJxi10sRm6cA",
        "colab": {
          "base_uri": "https://localhost:8080/"
        },
        "outputId": "8741a781-508f-4349-dd18-64ea0026e288"
      },
      "outputs": [
        {
          "output_type": "stream",
          "name": "stdout",
          "text": [
            "(2, 37) (2, 37) (2, 2)\n"
          ]
        }
      ],
      "source": [
        "from math import sqrt\n",
        "\n",
        "query_key_size=37\n",
        "input_embedding_size=2\n",
        "\n",
        "Wq=np.random.rand(input_embedding_size, query_key_size)\n",
        "Wk=np.random.rand(input_embedding_size, query_key_size)\n",
        "Wv=np.random.rand(input_embedding_size, input_embedding_size)\n",
        "\n",
        "print(Wq.shape, Wk.shape, Wv.shape)"
      ]
    },
    {
      "cell_type": "code",
      "execution_count": 21,
      "metadata": {
        "id": "rIz14Cp0fkEQ"
      },
      "outputs": [],
      "source": [
        "def attention(input, input_embedding_size=2, query_key_size=37):\n",
        "    Wq=np.random.rand(input_embedding_size, query_key_size)\n",
        "    Wk=np.random.rand(input_embedding_size, query_key_size)\n",
        "    Wv=np.random.rand(input_embedding_size, input_embedding_size)\n",
        "\n",
        "    # BEGIN SOLUTION\n",
        "    Q = np.dot(input, Wq)\n",
        "    K = np.dot(input, Wk)\n",
        "    V = np.dot(input, Wv)\n",
        "    attention_score = np.dot(Q, K.T) / np.sqrt(query_key_size)\n",
        "    softmax_value = softmax(attention_score, axis=1)\n",
        "    output = np.dot(softmax_value, V)\n",
        "    # END SOLUTION\n",
        "    assert input.shape == output.shape\n",
        "    return output"
      ]
    },
    {
      "cell_type": "markdown",
      "metadata": {
        "id": "SyImkPsQZkxi"
      },
      "source": [
        "###Intuition of multi-head attention"
      ]
    },
    {
      "cell_type": "markdown",
      "metadata": {
        "id": "qI7wsiCBZ2v3"
      },
      "source": [
        "In this section, let's implement multi-head attention.\n",
        "\n",
        "These are a set of self-attention layers, with their own set of parameters (Wq, Wk, Wv). Specifically for multi-head attention, there are parallel layers at the same depth in the model. They are helpful to capture a variety of parallel relations in the input sentence. Reference [SLP3 Chapter 10](https://web.stanford.edu/~jurafsky/slp3/10.pdf) Pg.9 & 10, and the equations 10.17, 10.18, and 10.19 for implementation."
      ]
    },
    {
      "cell_type": "markdown",
      "metadata": {
        "id": "iSWCuGOeO9Bm"
      },
      "source": [
        "## Question 5: Scaled dot product attention in PyTorch (TODO)"
      ]
    },
    {
      "cell_type": "markdown",
      "metadata": {
        "id": "Wi_NDsAnf9Or"
      },
      "source": [
        "Data prep time again:"
      ]
    },
    {
      "cell_type": "code",
      "execution_count": 22,
      "metadata": {
        "id": "HhCwiL2wasYv"
      },
      "outputs": [],
      "source": [
        "def read_data_as_embeddings(filename, vocab, labels, save_texts=False):\n",
        "    \"\"\"\n",
        "    Utility function, loads in texts `filename` and looks up the static embeddings\n",
        "\n",
        "    Arguments:\n",
        "    - filename:     path to file\n",
        "    - vocab:        vocab file of e.g. GloVe\n",
        "    - labels:       label mapping\n",
        "    - save_texts:   whether to store the original texts\n",
        "\n",
        "    Returns\n",
        "    - embeddings:   torch.FloatTensor matrix of size (vocab_size x word_embedding_dim)\n",
        "    - vocab:        dictionary mapping word (str) to index (int) in embedding matrix\n",
        "    \"\"\"\n",
        "\n",
        "    PAD_INDEX=0             # reserved for padding words\n",
        "    UNKNOWN_INDEX=1         # reserved for unknown words\n",
        "    SEP_INDEX=2\n",
        "\n",
        "    texts=[]\n",
        "    data, data_labels=[], []\n",
        "\n",
        "    with open(filename) as f:\n",
        "        for line in f:\n",
        "            cols=line.split(\"\\t\")\n",
        "            idd=cols[0]\n",
        "            label=cols[1]\n",
        "            review=cols[2]\n",
        "            tokenized_review=nltk.word_tokenize(review.lower())\n",
        "            w_int=[]\n",
        "            for w in tokenized_review:\n",
        "                if w in vocab:\n",
        "                    w_int.append(vocab[w])\n",
        "                else:\n",
        "                    w_int.append(UNKNOWN_INDEX)\n",
        "            if len(w_int) < 549:\n",
        "                w_int.extend([PAD_INDEX] * (549 - len(w_int)))\n",
        "            if len(w_int) < 550:\n",
        "                data.append((w_int))\n",
        "                data_labels.append(labels[label])\n",
        "            if save_texts:\n",
        "                texts.append((idd, tokenized_review, label))\n",
        "    return data, data_labels, texts\n",
        "\n",
        "attn_embeddings=nn.Embedding.from_pretrained(embs)\n",
        "attn_train_x, attn_train_y, attn_train_texts=read_data_as_embeddings(training_file, glove_vocab, labels, True)\n",
        "attn_trainX, attn_trainY=get_batches(attn_train_x, attn_train_y, torch.LongTensor, 1)\n",
        "attn_dev_x, attn_dev_y, _=read_data_as_embeddings(dev_file, glove_vocab, labels)\n",
        "attn_devX, attn_devY=get_batches(attn_dev_x, attn_dev_y, torch.LongTensor, 1)"
      ]
    },
    {
      "cell_type": "markdown",
      "metadata": {
        "id": "HajkB0Dxf9Os"
      },
      "source": [
        "Now it's time to implement that as part of a model.  Here we're going to embed attention within a larger model.  For an input document of, say, $20$ words, each represented by a $100$-dimesional embedding, the input to attention is a $20 \\times 100$ matrix; the output from attention is also a $20 \\times 100$ matrix.  In this larger model, we're going to average those output embeddings to generate a final document that's a single $100$-dimensional vector; pass through a fully-connected dense layer to make a prediction.\n",
        "\n",
        "As a extension to an implementation that's similar to ```attention``` function, you'll have to concatenate the outputs from each head and apply a transformation with ```Wo``` matrix (a learnable parameter, just like Wq, Wk, and Wv). Implement the  ```__init__() ``` and ```forward()``` function in ```MultiHeadAttention``` class. Again, Equations 10.17, 10.18, and 10.19 of [SLP3 Chapter 10](https://web.stanford.edu/~jurafsky/slp3/10.pdf) are what we expect you to implement in the ```forward()``` method. [Lecture 5](https://ucbnlp24.github.io/webpage/slides/5_attention.pdf) slides #36 - #40 is useful to look into.   \n",
        "\n",
        "Test yourself before proceeding (not graded, but always remind yourself of this kind of things): In our GloVe representation of movie review data, each padded review has ? tokens, represented by a ?-dimensional GloVe embedding?"
      ]
    },
    {
      "cell_type": "code",
      "execution_count": 31,
      "metadata": {
        "id": "F0Lb0DRIUHOx"
      },
      "outputs": [],
      "source": [
        "class MultiHeadAttention(nn.Module):\n",
        "    # BEGIN SOLUTION\n",
        "      def __init__(self, input_embedding_size, query_key_size, num_heads):\n",
        "        super(MultiHeadAttention, self).__init__()\n",
        "\n",
        "        self.h = num_heads # 3\n",
        "        self.dq = query_key_size # 64\n",
        "        self.dk = query_key_size # 64\n",
        "        self.dv = input_embedding_size # 50\n",
        "\n",
        "        self.wq = nn.ModuleList([nn.Linear(self.dv, self.dq, bias = False) for _ in range(self.h)])\n",
        "        self.wk = nn.ModuleList([nn.Linear(self.dv, self.dk, bias = False) for _ in range(self.h)])\n",
        "        self.wv = nn.ModuleList([nn.Linear(self.dv, self.dv, bias = False) for _ in range(self.h)])\n",
        "\n",
        "        self.softmax = nn.Softmax(dim = 1)\n",
        "\n",
        "        self.wo = nn.Linear(self.h * self.dv, self.dv)\n",
        "\n",
        "      def forward(self, x):\n",
        "        output_ = []\n",
        "\n",
        "        for i in range(self.h):\n",
        "          q = self.wq[i](x)\n",
        "          k = self.wk[i](x)\n",
        "          v = self.wv[i](x)\n",
        "          score = q @ k.T / np.sqrt(self.dq)\n",
        "          score_ = self.softmax(score)\n",
        "          result = score_ @ v\n",
        "          output_.append(result)\n",
        "\n",
        "        output_cat = torch.cat(output_, dim=-1)\n",
        "        output = self.wo(output_cat)\n",
        "\n",
        "        return output\n",
        "    # END SOLUTION\n",
        "\n",
        "class MultiHeadAttentionClassifier(nn.Module):\n",
        "    def __init__(self, params, pretrained_embeddings):\n",
        "        super().__init__()\n",
        "\n",
        "        self.seq_len=params[\"max_seq_len\"]\n",
        "        self.num_labels=params[\"label_length\"]\n",
        "        self.query_key_size=params[\"query_key_size\"]\n",
        "        self.num_heads=params[\"num_heads\"]\n",
        "\n",
        "        self.embeddings=nn.Embedding.from_pretrained(pretrained_embeddings)\n",
        "        self.input_embedding_size=self.embeddings.weight.data.shape[1]\n",
        "        self.attention=MultiHeadAttention(self.input_embedding_size, self.query_key_size, self.num_heads)\n",
        "        self.softmax=nn.Softmax(dim=1)\n",
        "        self.fc=nn.Linear(self.seq_len, params[\"label_length\"])\n",
        "\n",
        "\n",
        "    def forward(self, input):\n",
        "        x=self.embeddings(input)\n",
        "        x=self.attention(x)\n",
        "        x=x.mean(1)\n",
        "        x=self.fc(x)\n",
        "        return x.squeeze()\n",
        "\n",
        "    def evaluate(self, x, y):\n",
        "        self.eval()\n",
        "        corr=0.\n",
        "        total=0.\n",
        "        with torch.no_grad():\n",
        "            for x, y in zip(x, y):\n",
        "                x, y=x.to(device), y.to(device)\n",
        "                x=x[0]\n",
        "                y_pred=self.forward(x)\n",
        "                prediction=torch.argmax(y_pred)\n",
        "                if prediction == y:\n",
        "                    corr += 1.\n",
        "                total+=1\n",
        "        return corr/total\n"
      ]
    },
    {
      "cell_type": "code",
      "execution_count": 32,
      "metadata": {
        "id": "V7sAsflHaXdB"
      },
      "outputs": [],
      "source": [
        "attnmodel = MultiHeadAttentionClassifier(\n",
        "    params={\n",
        "        \"max_seq_len\": 549,\n",
        "        \"label_length\": len(labels),\n",
        "        \"query_key_size\": 64,\n",
        "        \"num_heads\": 3\n",
        "    },\n",
        "    pretrained_embeddings=embs\n",
        ").to(device)\n",
        "\n",
        "optimizer=torch.optim.Adam(attnmodel.parameters(), lr=0.001, weight_decay=1e-5)\n",
        "cross_entropy=nn.CrossEntropyLoss()\n",
        "losses=[]\n",
        "\n",
        "num_epochs=15\n",
        "best_dev_acc = 0.\n",
        "patience=10"
      ]
    },
    {
      "cell_type": "markdown",
      "metadata": {
        "id": "SqkENL98f9Os"
      },
      "source": [
        "Again, you can execute the code to self-check, but you don't need to finish training."
      ]
    },
    {
      "cell_type": "code",
      "execution_count": 33,
      "metadata": {
        "id": "3_UJSBJ86j5f",
        "colab": {
          "base_uri": "https://localhost:8080/"
        },
        "outputId": "28b35b94-79ea-45ac-e6a3-586b49aee432"
      },
      "outputs": [
        {
          "metadata": {
            "tags": null
          },
          "name": "stdout",
          "output_type": "stream",
          "text": [
            "Epoch 0, dev accuracy: 0.773\n",
            "Epoch 1, dev accuracy: 0.777\n",
            "Epoch 2, dev accuracy: 0.772\n",
            "Epoch 3, dev accuracy: 0.767\n",
            "Epoch 4, dev accuracy: 0.763\n",
            "Epoch 5, dev accuracy: 0.762\n",
            "Epoch 6, dev accuracy: 0.755\n",
            "Epoch 7, dev accuracy: 0.749\n",
            "Epoch 8, dev accuracy: 0.750\n",
            "Epoch 9, dev accuracy: 0.748\n",
            "Epoch 10, dev accuracy: 0.746\n",
            "Stopping training; no improvement on dev data after 10 epochs\n",
            "\n",
            "Best Performing Model achieves dev accuracy of : 0.777\n"
          ]
        }
      ],
      "source": [
        "for epoch in range(num_epochs):\n",
        "    attnmodel.train()\n",
        "\n",
        "    for x, y in zip(attn_trainX, attn_trainY):\n",
        "        x=x[0]\n",
        "        x, y=x.to(device), y.to(device)\n",
        "        y_pred=attnmodel.forward(x)\n",
        "        loss=cross_entropy(y_pred.view(-1, attnmodel.num_labels), y.view(-1))\n",
        "\n",
        "        losses.append(loss.item())\n",
        "        optimizer.zero_grad()\n",
        "        loss.backward()\n",
        "        optimizer.step()\n",
        "\n",
        "    dev_accuracy=attnmodel.evaluate(attn_devX, attn_devY)\n",
        "\n",
        "    # check if the dev accuracy is the best seen so far; save the model if so\n",
        "    print(\"Epoch %s, dev accuracy: %.3f\" % (epoch, dev_accuracy))\n",
        "    if dev_accuracy > best_dev_acc:\n",
        "        torch.save(attnmodel.state_dict(), 'best-attnmodel-parameters.pt')\n",
        "        best_dev_acc = dev_accuracy\n",
        "        patience_counter=0\n",
        "\n",
        "    patience_counter+=1\n",
        "    if patience_counter >= patience:\n",
        "        print(\"Stopping training; no improvement on dev data after %s epochs\" % patience)\n",
        "        break\n",
        "\n",
        "attnmodel.load_state_dict(torch.load('best-attnmodel-parameters.pt'))\n",
        "print(\"\\nBest Performing Model achieves dev accuracy of : %.3f\" % (best_dev_acc))"
      ]
    },
    {
      "cell_type": "markdown",
      "metadata": {
        "id": "yEL1Wzquf9Ot"
      },
      "source": [
        "---\n",
        "\n",
        "Congrats! You're officially done with this homework -- be sure to check the \"How to submit\" section in the PDF."
      ]
    }
  ],
  "metadata": {
    "colab": {
      "provenance": []
    },
    "kernelspec": {
      "display_name": "Python 3",
      "name": "python3"
    },
    "language_info": {
      "codemirror_mode": {
        "name": "ipython",
        "version": 3
      },
      "file_extension": ".py",
      "mimetype": "text/x-python",
      "name": "python",
      "nbconvert_exporter": "python",
      "pygments_lexer": "ipython3",
      "version": "3.8.8"
    }
  },
  "nbformat": 4,
  "nbformat_minor": 0
}